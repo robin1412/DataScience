{
  "nbformat": 4,
  "nbformat_minor": 0,
  "metadata": {
    "colab": {
      "name": "Copy of DS_Practical-3.ipynb",
      "provenance": []
    },
    "kernelspec": {
      "name": "python3",
      "display_name": "Python 3"
    },
    "language_info": {
      "name": "python"
    }
  },
  "cells": [
    {
      "cell_type": "code",
      "metadata": {
        "id": "AqOpM30RNj2m"
      },
      "source": [
        "import numpy as np\n",
        "import matplotlib.pyplot as plt\n",
        "\n",
        "from sklearn.model_selection import train_test_split\n",
        "from sklearn.feature_selection import VarianceThreshold, RFE, SelectFromModel, SelectKBest, f_classif, chi2, mutual_info_classif\n",
        "from sklearn.linear_model import LogisticRegression\n",
        "from sklearn.ensemble import RandomForestClassifier\n",
        "from sklearn.metrics import confusion_matrix, classification_report\n",
        "from sklearn.datasets import load_iris"
      ],
      "execution_count": 1,
      "outputs": []
    },
    {
      "cell_type": "code",
      "metadata": {
        "id": "kVQO6rppN01I"
      },
      "source": [
        "iris = load_iris()\n",
        "X = iris.data\n",
        "y = iris.target"
      ],
      "execution_count": 2,
      "outputs": []
    },
    {
      "cell_type": "code",
      "metadata": {
        "colab": {
          "base_uri": "https://localhost:8080/"
        },
        "id": "vAp5hqfSOqqA",
        "outputId": "2ce5b859-3d7c-4b71-bd15-39c619952fde"
      },
      "source": [
        "print(X[1, :])\n",
        "print(X.shape)"
      ],
      "execution_count": 3,
      "outputs": [
        {
          "output_type": "stream",
          "name": "stdout",
          "text": [
            "[4.9 3.  1.4 0.2]\n",
            "(150, 4)\n"
          ]
        }
      ]
    },
    {
      "cell_type": "code",
      "metadata": {
        "colab": {
          "base_uri": "https://localhost:8080/"
        },
        "id": "huNMyWgIPhNC",
        "outputId": "67fa302e-fa87-4ab2-cc6d-a4c830e63d06"
      },
      "source": [
        "# In order to test the effectness of different feature selection methods, we add some noise features to the dataset.\n",
        "np.random.seed(100)\n",
        "E = np.random.uniform(0, 1, size=(len(X), 10))\n",
        "X = np.hstack((X, E))\n",
        "X.shape"
      ],
      "execution_count": 5,
      "outputs": [
        {
          "output_type": "execute_result",
          "data": {
            "text/plain": [
              "(150, 24)"
            ]
          },
          "metadata": {},
          "execution_count": 5
        }
      ]
    },
    {
      "cell_type": "code",
      "metadata": {
        "colab": {
          "base_uri": "https://localhost:8080/"
        },
        "id": "-ket4uYUQlxJ",
        "outputId": "a7d88a0b-3ddf-4619-fd25-60349d5c532a"
      },
      "source": [
        "X_train, X_test, y_train, y_test = train_test_split(X, y, random_state=1, test_size=0.3)\n",
        "X_train.shape"
      ],
      "execution_count": 6,
      "outputs": [
        {
          "output_type": "execute_result",
          "data": {
            "text/plain": [
              "(105, 24)"
            ]
          },
          "metadata": {},
          "execution_count": 6
        }
      ]
    },
    {
      "cell_type": "code",
      "metadata": {
        "colab": {
          "base_uri": "https://localhost:8080/"
        },
        "id": "9Q38RM3hQpaJ",
        "outputId": "14a8f96c-0882-4b06-dbe4-1c73d03354c2"
      },
      "source": [
        "sel_variance_threshold = VarianceThreshold() \n",
        "X_train_remove_variance = sel_variance_threshold.fit_transform(X_train)\n",
        "X_train_remove_variance.shape\n",
        "# Variance threshold is applied but since the noise valued columns have non-zero variance, they aren't deleted"
      ],
      "execution_count": 7,
      "outputs": [
        {
          "output_type": "execute_result",
          "data": {
            "text/plain": [
              "(105, 24)"
            ]
          },
          "metadata": {},
          "execution_count": 7
        }
      ]
    },
    {
      "cell_type": "markdown",
      "metadata": {
        "id": "s1JunwC3Q4oh"
      },
      "source": [
        "**********"
      ]
    },
    {
      "cell_type": "code",
      "metadata": {
        "colab": {
          "base_uri": "https://localhost:8080/"
        },
        "id": "vvjUn9QmQq7A",
        "outputId": "a99ec522-b092-491b-cf49-62b3c9eb9b1c"
      },
      "source": [
        "# Since this is iris dataset we are working on, we will use classfication techniques\n",
        "# Analysis Of Variance (ANOVA)\n",
        "sel_f = SelectKBest(f_classif, k=4)\n",
        "X_train_f = sel_f.fit_transform(X_train, y_train)\n",
        "\n",
        "print(sel_f.get_support())\n",
        "print(sel_f.get_params())"
      ],
      "execution_count": 8,
      "outputs": [
        {
          "output_type": "stream",
          "name": "stdout",
          "text": [
            "[ True  True  True  True False False False False False False False False\n",
            " False False False False False False False False False False False False]\n",
            "{'k': 4, 'score_func': <function f_classif at 0x7f94a947def0>}\n"
          ]
        }
      ]
    },
    {
      "cell_type": "code",
      "metadata": {
        "colab": {
          "base_uri": "https://localhost:8080/"
        },
        "id": "toqA2uTUQ8Yq",
        "outputId": "5ad70d8e-c63b-4e98-ff17-08032cda2a69"
      },
      "source": [
        "# Chi2 Test\n",
        "sel_chi2 = SelectKBest(chi2, k=4) # select 4 features\n",
        "X_train_chi2 = sel_chi2.fit_transform(X_train, y_train)\n",
        "\n",
        "print(sel_chi2.get_support())\n",
        "print(sel_chi2.get_params())"
      ],
      "execution_count": 9,
      "outputs": [
        {
          "output_type": "stream",
          "name": "stdout",
          "text": [
            "[ True  True  True  True False False False False False False False False\n",
            " False False False False False False False False False False False False]\n",
            "{'k': 4, 'score_func': <function chi2 at 0x7f94a9481320>}\n"
          ]
        }
      ]
    },
    {
      "cell_type": "code",
      "metadata": {
        "colab": {
          "base_uri": "https://localhost:8080/"
        },
        "id": "ezVHuYJ7RARm",
        "outputId": "a415106b-dc06-481e-a11f-e7d145e4d672"
      },
      "source": [
        "# mutual_info_classif Test\n",
        "sel_mutual = SelectKBest(mutual_info_classif, k=4)\n",
        "X_train_mutual = sel_mutual.fit_transform(X_train, y_train)\n",
        "\n",
        "print(sel_mutual.get_support())\n",
        "print(sel_mutual.get_params())"
      ],
      "execution_count": 10,
      "outputs": [
        {
          "output_type": "stream",
          "name": "stdout",
          "text": [
            "[ True  True  True  True False False False False False False False False\n",
            " False False False False False False False False False False False False]\n",
            "{'k': 4, 'score_func': <function mutual_info_classif at 0x7f94a6f06560>}\n"
          ]
        }
      ]
    },
    {
      "cell_type": "markdown",
      "metadata": {
        "id": "TkcgubL5RF3k"
      },
      "source": [
        "Recursive Feature Elimination"
      ]
    },
    {
      "cell_type": "code",
      "metadata": {
        "colab": {
          "base_uri": "https://localhost:8080/"
        },
        "id": "SZtjxLj1RGkS",
        "outputId": "65e7449e-9aa7-4c8c-a26b-6a629b174bd6"
      },
      "source": [
        "model_tree = RandomForestClassifier(random_state=100, n_estimators=50)\n",
        "sel_rfe_tree = RFE(estimator=model_tree, n_features_to_select=4, step=1)\n",
        "X_train_rfe_tree = sel_rfe_tree.fit_transform(X_train, y_train)\n",
        "print(sel_rfe_tree.get_support())"
      ],
      "execution_count": 11,
      "outputs": [
        {
          "output_type": "stream",
          "name": "stdout",
          "text": [
            "[ True False  True  True False False False False False False False False\n",
            " False False False False False False  True False False False False False]\n"
          ]
        }
      ]
    },
    {
      "cell_type": "markdown",
      "metadata": {
        "id": "yQa2Zrj8RQvv"
      },
      "source": [
        "PCA"
      ]
    },
    {
      "cell_type": "code",
      "metadata": {
        "id": "LEOwebDKRSI7"
      },
      "source": [
        "from sklearn.decomposition import PCA\n",
        "from sklearn.preprocessing import StandardScaler\n",
        "import pandas as pd"
      ],
      "execution_count": 12,
      "outputs": []
    },
    {
      "cell_type": "code",
      "metadata": {
        "id": "93bSRinHRZij"
      },
      "source": [
        "x = StandardScaler().fit_transform(X)\n",
        "features = ['sepal length', 'sepal width', 'petal length', 'petal width']"
      ],
      "execution_count": 13,
      "outputs": []
    },
    {
      "cell_type": "code",
      "metadata": {
        "id": "AjfDwIfERdjR"
      },
      "source": [
        "pca = PCA(n_components=2)"
      ],
      "execution_count": 14,
      "outputs": []
    },
    {
      "cell_type": "code",
      "metadata": {
        "id": "inWWfw6tVutG"
      },
      "source": [
        "principalComponents = pca.fit_transform(x)"
      ],
      "execution_count": 15,
      "outputs": []
    },
    {
      "cell_type": "code",
      "metadata": {
        "id": "Z00NhHtYVzw6"
      },
      "source": [
        "principalDf = pd.DataFrame(data = principalComponents\n",
        "             , columns = ['principal component 1', 'principal component 2'])"
      ],
      "execution_count": 16,
      "outputs": []
    },
    {
      "cell_type": "code",
      "metadata": {
        "colab": {
          "base_uri": "https://localhost:8080/",
          "height": 204
        },
        "id": "me9V4_6uV2v9",
        "outputId": "a6009710-6e7c-45ea-84a6-6ef2b6c2602a"
      },
      "source": [
        "principalDf.head(5)"
      ],
      "execution_count": 17,
      "outputs": [
        {
          "output_type": "execute_result",
          "data": {
            "text/html": [
              "<div>\n",
              "<style scoped>\n",
              "    .dataframe tbody tr th:only-of-type {\n",
              "        vertical-align: middle;\n",
              "    }\n",
              "\n",
              "    .dataframe tbody tr th {\n",
              "        vertical-align: top;\n",
              "    }\n",
              "\n",
              "    .dataframe thead th {\n",
              "        text-align: right;\n",
              "    }\n",
              "</style>\n",
              "<table border=\"1\" class=\"dataframe\">\n",
              "  <thead>\n",
              "    <tr style=\"text-align: right;\">\n",
              "      <th></th>\n",
              "      <th>principal component 1</th>\n",
              "      <th>principal component 2</th>\n",
              "    </tr>\n",
              "  </thead>\n",
              "  <tbody>\n",
              "    <tr>\n",
              "      <th>0</th>\n",
              "      <td>1.219693</td>\n",
              "      <td>-2.121922</td>\n",
              "    </tr>\n",
              "    <tr>\n",
              "      <th>1</th>\n",
              "      <td>3.528068</td>\n",
              "      <td>0.874835</td>\n",
              "    </tr>\n",
              "    <tr>\n",
              "      <th>2</th>\n",
              "      <td>1.523896</td>\n",
              "      <td>1.098059</td>\n",
              "    </tr>\n",
              "    <tr>\n",
              "      <th>3</th>\n",
              "      <td>4.016180</td>\n",
              "      <td>2.145598</td>\n",
              "    </tr>\n",
              "    <tr>\n",
              "      <th>4</th>\n",
              "      <td>2.760409</td>\n",
              "      <td>-1.364915</td>\n",
              "    </tr>\n",
              "  </tbody>\n",
              "</table>\n",
              "</div>"
            ],
            "text/plain": [
              "   principal component 1  principal component 2\n",
              "0               1.219693              -2.121922\n",
              "1               3.528068               0.874835\n",
              "2               1.523896               1.098059\n",
              "3               4.016180               2.145598\n",
              "4               2.760409              -1.364915"
            ]
          },
          "metadata": {},
          "execution_count": 17
        }
      ]
    },
    {
      "cell_type": "code",
      "metadata": {
        "id": "jPF0i__rV6eF"
      },
      "source": [
        "# Getting Target variable from the dataset\n",
        "url = \"https://archive.ics.uci.edu/ml/machine-learning-databases/iris/iris.data\"\n",
        "df = pd.read_csv(url, names=['sepal length','sepal width','petal length','petal width','target'])\n",
        "y = df.loc[:,['target']].values"
      ],
      "execution_count": 21,
      "outputs": []
    },
    {
      "cell_type": "code",
      "metadata": {
        "colab": {
          "base_uri": "https://localhost:8080/",
          "height": 204
        },
        "id": "gCK8YMYDV9I9",
        "outputId": "cfe6d00d-9ba5-4e8c-ddf2-1d58b3c1735f"
      },
      "source": [
        "finalDf = pd.concat([principalDf, df[['target']]], axis = 1)\n",
        "finalDf.head(5)"
      ],
      "execution_count": 22,
      "outputs": [
        {
          "output_type": "execute_result",
          "data": {
            "text/html": [
              "<div>\n",
              "<style scoped>\n",
              "    .dataframe tbody tr th:only-of-type {\n",
              "        vertical-align: middle;\n",
              "    }\n",
              "\n",
              "    .dataframe tbody tr th {\n",
              "        vertical-align: top;\n",
              "    }\n",
              "\n",
              "    .dataframe thead th {\n",
              "        text-align: right;\n",
              "    }\n",
              "</style>\n",
              "<table border=\"1\" class=\"dataframe\">\n",
              "  <thead>\n",
              "    <tr style=\"text-align: right;\">\n",
              "      <th></th>\n",
              "      <th>principal component 1</th>\n",
              "      <th>principal component 2</th>\n",
              "      <th>target</th>\n",
              "    </tr>\n",
              "  </thead>\n",
              "  <tbody>\n",
              "    <tr>\n",
              "      <th>0</th>\n",
              "      <td>1.219693</td>\n",
              "      <td>-2.121922</td>\n",
              "      <td>Iris-setosa</td>\n",
              "    </tr>\n",
              "    <tr>\n",
              "      <th>1</th>\n",
              "      <td>3.528068</td>\n",
              "      <td>0.874835</td>\n",
              "      <td>Iris-setosa</td>\n",
              "    </tr>\n",
              "    <tr>\n",
              "      <th>2</th>\n",
              "      <td>1.523896</td>\n",
              "      <td>1.098059</td>\n",
              "      <td>Iris-setosa</td>\n",
              "    </tr>\n",
              "    <tr>\n",
              "      <th>3</th>\n",
              "      <td>4.016180</td>\n",
              "      <td>2.145598</td>\n",
              "      <td>Iris-setosa</td>\n",
              "    </tr>\n",
              "    <tr>\n",
              "      <th>4</th>\n",
              "      <td>2.760409</td>\n",
              "      <td>-1.364915</td>\n",
              "      <td>Iris-setosa</td>\n",
              "    </tr>\n",
              "  </tbody>\n",
              "</table>\n",
              "</div>"
            ],
            "text/plain": [
              "   principal component 1  principal component 2       target\n",
              "0               1.219693              -2.121922  Iris-setosa\n",
              "1               3.528068               0.874835  Iris-setosa\n",
              "2               1.523896               1.098059  Iris-setosa\n",
              "3               4.016180               2.145598  Iris-setosa\n",
              "4               2.760409              -1.364915  Iris-setosa"
            ]
          },
          "metadata": {},
          "execution_count": 22
        }
      ]
    },
    {
      "cell_type": "code",
      "metadata": {
        "colab": {
          "base_uri": "https://localhost:8080/",
          "height": 523
        },
        "id": "BBAT-XdlWAm7",
        "outputId": "c681a7f3-7eae-476f-f7ca-4417581b2ec5"
      },
      "source": [
        "fig = plt.figure(figsize = (8,8))\n",
        "ax = fig.add_subplot(1,1,1) \n",
        "ax.set_xlabel('Principal Component 1', fontsize = 15)\n",
        "ax.set_ylabel('Principal Component 2', fontsize = 15)\n",
        "ax.set_title('2 Component PCA', fontsize = 20)\n",
        "\n",
        "targets = ['Iris-setosa', 'Iris-versicolor', 'Iris-virginica']\n",
        "colors = ['r', 'g', 'b']\n",
        "for target, color in zip(targets,colors):\n",
        "    indicesToKeep = finalDf['target'] == target\n",
        "    ax.scatter(finalDf.loc[indicesToKeep, 'principal component 1']\n",
        "               , finalDf.loc[indicesToKeep, 'principal component 2']\n",
        "               , c = color\n",
        "               , s = 50)\n",
        "ax.legend(targets)\n",
        "ax.grid()"
      ],
      "execution_count": 23,
      "outputs": [
        {
          "output_type": "display_data",
          "data": {
            "image/png": "[encoded data removed]",
            "text/plain": [
              "<Figure size 576x576 with 1 Axes>"
            ]
          },
          "metadata": {
            "needs_background": "light"
          }
        }
      ]
    },
    {
      "cell_type": "code",
      "metadata": {
        "colab": {
          "base_uri": "https://localhost:8080/",
          "height": 204
        },
        "id": "ibveHbzRWfZb",
        "outputId": "4234d41d-eba6-43b9-8edd-7702978dd0fc"
      },
      "source": [
        "pca = PCA(n_components=3)\n",
        "principalComponents = pca.fit_transform(x)\n",
        "principalDf1 = pd.DataFrame(data = principalComponents\n",
        "             , columns = ['principal component 1', 'principal component 2','principal component 3'])\n",
        "finalDf1 = pd.concat([principalDf1, df[['target']]], axis = 1)\n",
        "finalDf1.head(5)"
      ],
      "execution_count": 24,
      "outputs": [
        {
          "output_type": "execute_result",
          "data": {
            "text/html": [
              "<div>\n",
              "<style scoped>\n",
              "    .dataframe tbody tr th:only-of-type {\n",
              "        vertical-align: middle;\n",
              "    }\n",
              "\n",
              "    .dataframe tbody tr th {\n",
              "        vertical-align: top;\n",
              "    }\n",
              "\n",
              "    .dataframe thead th {\n",
              "        text-align: right;\n",
              "    }\n",
              "</style>\n",
              "<table border=\"1\" class=\"dataframe\">\n",
              "  <thead>\n",
              "    <tr style=\"text-align: right;\">\n",
              "      <th></th>\n",
              "      <th>principal component 1</th>\n",
              "      <th>principal component 2</th>\n",
              "      <th>principal component 3</th>\n",
              "      <th>target</th>\n",
              "    </tr>\n",
              "  </thead>\n",
              "  <tbody>\n",
              "    <tr>\n",
              "      <th>0</th>\n",
              "      <td>1.219693</td>\n",
              "      <td>-2.121922</td>\n",
              "      <td>-0.902866</td>\n",
              "      <td>Iris-setosa</td>\n",
              "    </tr>\n",
              "    <tr>\n",
              "      <th>1</th>\n",
              "      <td>3.528068</td>\n",
              "      <td>0.874835</td>\n",
              "      <td>3.344303</td>\n",
              "      <td>Iris-setosa</td>\n",
              "    </tr>\n",
              "    <tr>\n",
              "      <th>2</th>\n",
              "      <td>1.523896</td>\n",
              "      <td>1.098059</td>\n",
              "      <td>-3.276276</td>\n",
              "      <td>Iris-setosa</td>\n",
              "    </tr>\n",
              "    <tr>\n",
              "      <th>3</th>\n",
              "      <td>4.016180</td>\n",
              "      <td>2.145598</td>\n",
              "      <td>2.626826</td>\n",
              "      <td>Iris-setosa</td>\n",
              "    </tr>\n",
              "    <tr>\n",
              "      <th>4</th>\n",
              "      <td>2.760409</td>\n",
              "      <td>-1.364915</td>\n",
              "      <td>0.803314</td>\n",
              "      <td>Iris-setosa</td>\n",
              "    </tr>\n",
              "  </tbody>\n",
              "</table>\n",
              "</div>"
            ],
            "text/plain": [
              "   principal component 1  ...       target\n",
              "0               1.219693  ...  Iris-setosa\n",
              "1               3.528068  ...  Iris-setosa\n",
              "2               1.523896  ...  Iris-setosa\n",
              "3               4.016180  ...  Iris-setosa\n",
              "4               2.760409  ...  Iris-setosa\n",
              "\n",
              "[5 rows x 4 columns]"
            ]
          },
          "metadata": {},
          "execution_count": 24
        }
      ]
    },
    {
      "cell_type": "code",
      "metadata": {
        "colab": {
          "base_uri": "https://localhost:8080/",
          "height": 542
        },
        "id": "4tOYKkAnWEfN",
        "outputId": "604e6c22-baab-4e1d-dc10-ea9231f021b2"
      },
      "source": [
        "import plotly.express as px\n",
        "targets = ['Iris-setosa', 'Iris-versicolor', 'Iris-virginica']\n",
        "colors = ['r', 'g', 'b']\n",
        "fig = px.scatter_3d(finalDf1,x='principal component 1',y='principal component 2',z='principal component 3',color='target')\n",
        "fig.show()"
      ],
      "execution_count": 25,
      "outputs": [
        {
          "output_type": "display_data",
          "data": {
            "text/html": [
              "<html>\n",
              "<head><meta charset=\"utf-8\" /></head>\n",
              "<body>\n",
              "    <div>\n",
              "            <script src=\"https://cdnjs.cloudflare.com/ajax/libs/mathjax/2.7.5/MathJax.js?config=TeX-AMS-MML_SVG\"></script><script type=\"text/javascript\">if (window.MathJax) {MathJax.Hub.Config({SVG: {font: \"STIX-Web\"}});}</script>\n",
              "                <script type=\"text/javascript\">window.PlotlyConfig = {MathJaxConfig: 'local'};</script>\n",
              "        <script src=\"https://cdn.plot.ly/plotly-latest.min.js\"></script>    \n",
              "            <div id=\"a0c88883-3a87-4643-9cec-3c22d43c8846\" class=\"plotly-graph-div\" style=\"height:525px; width:100%;\"></div>\n",
              "            <script type=\"text/javascript\">\n",
              "                \n",
              "                    window.PLOTLYENV=window.PLOTLYENV || {};\n",
              "                    \n",
              "                if (document.getElementById(\"a0c88883-3a87-4643-9cec-3c22d43c8846\")) {\n",
              "                    Plotly.newPlot(\n",
              "                        'a0c88883-3a87-4643-9cec-3c22d43c8846',\n",
              "                        [{\"hoverlabel\": {\"namelength\": 0}, \"hovertemplate\": \"target=Iris-setosa<br>principal component 1=%{x}<br>principal component 2=%{y}<br>principal component 3=%{z}\", \"legendgroup\": \"target=Iris-setosa\", \"marker\": {\"color\": \"#636efa\", \"symbol\": \"circle\"}, \"mode\": \"markers\", \"name\": \"target=Iris-setosa\", \"scene\": \"scene\", \"showlegend\": true, \"type\": \"scatter3d\", \"x\": [1.2196928879424753, 3.5280676784465146, 1.5238958047993438, 4.01618001262777, 2.7604089974317376, 1.5214085426584008, 3.020625505730102, 2.1928395438553756, 1.6378433992815644, 1.9178325242039902, 3.124107541511769, 0.9909669235758404, 2.198230317654586, 1.750352473977924, 2.289211880199351, 1.468525177847024, 2.0425371057121597, 2.12506958835028, 2.8262314610289616, 1.8294830643680984, 0.6276518250685257, 3.1913681930449944, 3.649231835397623, 0.2036951351087019, 1.708543617190826, 1.7817292413375683, 1.6922637065127153, 1.2682911445479714, 2.9034081798201203, 1.7385773620347875, 1.3628304848393917, 1.5323664255972063, 0.9299313475269461, 2.771146695617227, 2.3688540929678448, 2.6098270253490075, 2.075443536006721, 1.8008386761879003, 2.215975212362693, 1.496367712033821, 1.909098230380389, 3.163771592307987, 2.0634983951688444, 1.5371723311019756, 1.87169785920716, 3.3308167785634994, 0.916163115200636, 2.6282787342879677, 2.4356058801291205, 2.075754935063421], \"y\": [-2.1219222780177884, 0.8748354329329138, 1.098059382541885, 2.145598371348804, -1.3649154060399895, -1.103150890758286, -0.4861552903161178, -1.4814286962570635, -1.638464471834366, -1.5663584703378135, 1.6656110804978836, -0.6133187032608344, -0.7101845305579847, -0.7588389535101537, -2.620698150765288, -1.0572597863200162, 1.0716021232114712, -2.201307893825845, 1.8629038308786743, -0.18941340127302014, -2.3858263434760576, 0.3979148695987999, 0.48296803567567703, -3.66815475600201, -0.2712032464539814, -0.11715152526520989, -0.7919345533258363, -1.958147210989082, 0.8180898921025704, -0.3936331455049743, 0.8236687843741454, -0.6323750735121917, -1.495017156652297, 1.7382780043114676, -0.6457675411045509, -1.1794221705415098, 2.5859982981965, -1.5486539645357482, -1.7514294504802277, -1.5631843791701363, 1.3094196283954018, 1.6813160879791056, -1.3021711154727362, 1.4590567919210615, -1.8375117401636925, -0.13389345218207502, -2.6096497140907644, -0.9873950617455158, -2.8923512894449974, -1.0051878288078726], \"z\": [-0.90286550408249, 3.344303436210036, -3.2762758673643284, 2.6268260846790272, 0.803313862961194, -1.323395560724699, -0.26184196210352617, 0.305140987869046, -0.3953636194952004, 0.3045117541589715, -0.40696339653795205, -2.3599621089643437, -0.46106464494851196, -1.5596185200278843, -0.1603016462112365, -1.6114242017763705, -1.4029310849712227, 0.5677581764352068, -0.09180761279210867, -3.3672580094312794, -2.7339072708173116, 0.857840318862195, 0.6431138124254956, -2.1226559612898175, -1.5839071395863449, -1.0423623878596888, -1.5786224502645954, -1.4811161033138862, 1.0495417805828642, -1.4308409078760078, -2.367768771319996, -1.4204417813641714, -3.209405420680413, -1.5668060335478888, -0.3317815308203447, 2.758923003677032, -2.755579417842927, -0.8577228772681653, 0.48762845682709943, -0.6629968490776956, -3.195612249721598, 1.3883461663088612, -0.1475161811655677, -0.5914071544697458, -0.6057585814789004, 0.2214669425613963, -1.7461610820364333, 1.0853137056104412, 1.8389013703434016, -0.6830151655920512]}, {\"hoverlabel\": {\"namelength\": 0}, \"hovertemplate\": \"target=Iris-versicolor<br>principal component 1=%{x}<br>principal component 2=%{y}<br>principal component 3=%{z}\", \"legendgroup\": \"target=Iris-versicolor\", \"marker\": {\"color\": \"#EF553B\", \"symbol\": \"circle\"}, \"mode\": \"markers\", \"name\": \"target=Iris-versicolor\", \"scene\": \"scene\", \"showlegend\": true, \"type\": \"scatter3d\", \"x\": [-1.5816005718192314, -0.04961221094193906, -2.657517410364284, -0.2710574831767694, 0.03413143269467746, -0.39261039029890316, -1.2825731611007691, -0.2837925945161005, -0.8601733810551668, -0.20031912217616185, 0.24406844172056563, 0.1881999195357626, -1.1294333894660027, 1.068293400531212, 0.8049406961997869, -0.8735304379960626, 0.5747817052924741, 0.461392393889269, -1.282431873309685, -0.1996755250802525, 0.5742312406809568, -0.5871728023004753, -0.6098981338134721, 0.34913629304589505, -0.8391507285279365, -2.0988022840464686, -0.3614860285113597, -0.6394355719632884, -1.4885051329985914, 0.146630582565072, 0.7317658349410241, 0.5312501419374208, -0.6841789376593865, -0.8602334377710139, -0.6264155971726848, -0.08645559569895155, -0.4057546986544622, 0.45364370512313273, -0.9574302384266076, 0.36630691787482, -0.2102706807292442, -1.6777220648318505, -0.20770483841314655, 1.2723308087434413, -1.7210234922198104, -0.4883378593342248, 0.6609612441164332, -1.3538248674062807, -0.6305369007723938, -0.5724195307577323], \"y\": [0.42693183754083275, 0.639274706668455, -1.162932892433864, -0.5328174164144864, -0.5567926231720218, -1.449423660894335, -0.3629743221787002, -1.2390098207427263, -1.0792702854194793, 1.6174732270628198, -0.7221958250353598, 3.143583576082154, 0.31514577587454107, 2.052050472336649, 0.8292850135181866, -0.9220583480496453, 2.707151780133296, 1.2546797261466045, -0.3863211124099499, -0.618409451593445, 3.7750078035464574, -1.0503110848816735, 0.5715082309921029, 2.571869787696458, -1.8730936222047043, -2.465006936413712, 2.323937775356554, -0.7888746863719184, 0.8048835644774244, 0.16360781973961208, -2.109356365422874, 1.7632809196618635, -3.1794863284055457, 0.6161612962610024, -0.29737609125731584, -0.12703026809301607, 0.6944023503958546, 0.30302528843513643, -2.250986399871551, 3.303789877911891, 0.22314923481678917, -1.361753316754574, -0.029434208250681916, 1.8266847808024471, -2.696663573664766, 0.6052811996304451, 1.0900436201823145, -2.1107685817164534, -1.4401851702948343, 0.9139806493936418], \"z\": [-0.09293214139016914, 0.9668786413962169, -1.4379654078827133, 1.5529935827254266, 3.350543112926553, -0.9224835291575495, 0.7010776983960119, -1.4061296178632514, 1.4847252026927296, -0.11917261333351484, -0.03777041212722196, -0.9594621412603921, -1.5439136214754385, 2.874793269426429, 1.1911527453693849, 1.0933190928149894, 0.6318310367167668, -0.03360491086750907, 0.8579608830175424, 1.5928039573730117, 0.0662080805294899, 0.4585120235434406, 2.1122618922921648, 0.45744337851261446, 0.1781987841191275, -0.36275013645210635, 0.4249969484729, 1.8427596193013565, -0.6695930011150261, 0.9849503831663533, 2.3904197268277967, 1.2600772944911631, 1.7410400380526043, -1.0026888707040476, -1.0897520743831763, 2.291837130259291, 0.4953760047403362, 2.7103514034260034, 0.2586727618049261, -1.273700809045902, 0.42906601610669454, -1.5358319351051273, 1.4524082461321555, 0.2275969576417005, -2.2617352086862152, -0.4119387570239335, 1.0739294659648455, -0.5861177474694279, -1.6309938960794, -2.386044360022085]}, {\"hoverlabel\": {\"namelength\": 0}, \"hovertemplate\": \"target=Iris-virginica<br>principal component 1=%{x}<br>principal component 2=%{y}<br>principal component 3=%{z}\", \"legendgroup\": \"target=Iris-virginica\", \"marker\": {\"color\": \"#00cc96\", \"symbol\": \"circle\"}, \"mode\": \"markers\", \"name\": \"target=Iris-virginica\", \"scene\": \"scene\", \"showlegend\": true, \"type\": \"scatter3d\", \"x\": [-1.2409907418043988, -2.793074090342295, -1.8384702737535266, -3.015928633947748, -1.7560764275060463, -1.086298702227556, -1.0663959131297014, -1.3848726725777156, -1.3960524337226479, -2.567032974315299, 0.32096446164677694, -1.4834703658872006, -0.8079974272635841, -1.3018566139151202, -0.9955056723229142, -1.506044805221755, -1.344928812027365, -1.286857214231699, -3.6166738962504326, -0.6074142581527722, -2.4101333360456123, -1.8289340772126557, -2.3249475170072498, -1.576177824916527, -1.9503655317362316, -0.6979557548232014, -0.7077009821501671, -2.058177918363672, -3.1304560592199167, -2.5695520209257015, -1.5886245249632474, -1.6867547974781076, -1.1711505693724862, -2.485394848798975, -0.7321632795672359, -1.6515872636479354, -1.5889222109223942, -2.2618708038140993, -1.7497318044041148, -1.8460902690916956, -2.9436314479730696, -1.6823969639795968, -1.6365519521988237, -1.940765965543068, -1.305368912985992, -2.815296165476227, -1.2488132793449207, -2.4332264780041064, -0.5750969735632492, -0.7618705162648651], \"y\": [2.5523914002067483, -3.831001164756756, -2.639823433980851, -1.6569980301675806, -0.15950810817765756, 3.477553618748981, -1.3196866371387175, 2.9150486770521296, -0.3754824711441545, 0.41354657427445446, 0.48340971752662987, 2.2741021043957264, 1.899183880964757, 2.8874671447652243, 1.1100234477891255, 0.32259766391711964, -0.4259401346579899, -0.3281310117230026, -0.7619205055376292, -1.3788257822095145, 1.451264354991674, -1.0730328577258994, -0.0498365743072361, 1.1602448408773636, -1.278335548906473, 3.7278349301335307, 3.01265828475605, -1.3893090240258033, -1.852018842346925, 0.39595992909133754, 2.686959374721434, 2.53103308589193, 0.3192645467496099, -0.4323879988608854, 1.456734370018383, 0.04686072324835477, 1.216666166273453, -1.024406040200296, 1.4865901885366042, 4.253705734870798, 0.23803810658800617, -0.9925920286704969, -1.7127815141883467, -0.3938511657095747, 0.37264582391534556, 0.2725946990696647, -0.7268305109097801, 0.3504820718983788, 1.0157436661631003, 2.8165933632234608], \"z\": [0.38704445716076896, -0.30050626376485035, 2.8414591391176858, -1.4936546037579952, -0.39517973450573207, 2.8359090173069217, 0.2792922883383748, -0.8748058368624331, 0.5785411530778252, 0.4980120824364789, 4.189567489101153, -0.9931615412840009, 0.6426040010594605, -3.2432532391067137, 0.005089009851663274, 0.30588158860267717, 0.9143821035880763, 4.0899775822406195, 1.648827670750146, 2.1049196839739346, -1.6791537727499297, -1.052240579504475, 2.155179880708017, -1.6090925860035292, 1.544230599374642, 1.9815263680787298, -0.8685829733327761, -0.39538147593907513, -0.841718783098118, -1.3325700937836227, -0.43441638892706513, 0.48517049344719854, 1.2014228691061661, -2.5353044814367602, 2.414243238759622, 4.391198510019331, 0.4472520188666976, -0.8683046165731076, -2.3951103532519484, -2.5466612038793532, -1.10940500957374, 1.4794017100869372, 1.179170480925967, 1.1639451953289073, 0.5822051268609177, -1.6020021688924933, 1.0748010777077983, -0.7009266347584311, 0.6872218130722226, -0.8131192974461497]}],\n",
              "                        {\"legend\": {\"tracegroupgap\": 0}, \"margin\": {\"t\": 60}, \"scene\": {\"domain\": {\"x\": [0.0, 1.0], \"y\": [0.0, 1.0]}, \"xaxis\": {\"title\": {\"text\": \"principal component 1\"}}, \"yaxis\": {\"title\": {\"text\": \"principal component 2\"}}, \"zaxis\": {\"title\": {\"text\": \"principal component 3\"}}}, \"template\": {\"data\": {\"bar\": [{\"error_x\": {\"color\": \"#2a3f5f\"}, \"error_y\": {\"color\": \"#2a3f5f\"}, \"marker\": {\"line\": {\"color\": \"#E5ECF6\", \"width\": 0.5}}, \"type\": \"bar\"}], \"barpolar\": [{\"marker\": {\"line\": {\"color\": \"#E5ECF6\", \"width\": 0.5}}, \"type\": \"barpolar\"}], \"carpet\": [{\"aaxis\": {\"endlinecolor\": \"#2a3f5f\", \"gridcolor\": \"white\", \"linecolor\": \"white\", \"minorgridcolor\": \"white\", \"startlinecolor\": \"#2a3f5f\"}, \"baxis\": {\"endlinecolor\": \"#2a3f5f\", \"gridcolor\": \"white\", \"linecolor\": \"white\", \"minorgridcolor\": \"white\", \"startlinecolor\": \"#2a3f5f\"}, \"type\": \"carpet\"}], \"choropleth\": [{\"colorbar\": {\"outlinewidth\": 0, \"ticks\": \"\"}, \"type\": \"choropleth\"}], \"contour\": [{\"colorbar\": {\"outlinewidth\": 0, \"ticks\": \"\"}, \"colorscale\": [[0.0, \"#0d0887\"], [0.1111111111111111, \"#46039f\"], [0.2222222222222222, \"#7201a8\"], [0.3333333333333333, \"#9c179e\"], [0.4444444444444444, \"#bd3786\"], [0.5555555555555556, \"#d8576b\"], [0.6666666666666666, \"#ed7953\"], [0.7777777777777778, \"#fb9f3a\"], [0.8888888888888888, \"#fdca26\"], [1.0, \"#f0f921\"]], \"type\": \"contour\"}], \"contourcarpet\": [{\"colorbar\": {\"outlinewidth\": 0, \"ticks\": \"\"}, \"type\": \"contourcarpet\"}], \"heatmap\": [{\"colorbar\": {\"outlinewidth\": 0, \"ticks\": \"\"}, \"colorscale\": [[0.0, \"#0d0887\"], [0.1111111111111111, \"#46039f\"], [0.2222222222222222, \"#7201a8\"], [0.3333333333333333, \"#9c179e\"], [0.4444444444444444, \"#bd3786\"], [0.5555555555555556, \"#d8576b\"], [0.6666666666666666, \"#ed7953\"], [0.7777777777777778, \"#fb9f3a\"], [0.8888888888888888, \"#fdca26\"], [1.0, \"#f0f921\"]], \"type\": \"heatmap\"}], \"heatmapgl\": [{\"colorbar\": {\"outlinewidth\": 0, \"ticks\": \"\"}, \"colorscale\": [[0.0, \"#0d0887\"], [0.1111111111111111, \"#46039f\"], [0.2222222222222222, \"#7201a8\"], [0.3333333333333333, \"#9c179e\"], [0.4444444444444444, \"#bd3786\"], [0.5555555555555556, \"#d8576b\"], [0.6666666666666666, \"#ed7953\"], [0.7777777777777778, \"#fb9f3a\"], [0.8888888888888888, \"#fdca26\"], [1.0, \"#f0f921\"]], \"type\": \"heatmapgl\"}], \"histogram\": [{\"marker\": {\"colorbar\": {\"outlinewidth\": 0, \"ticks\": \"\"}}, \"type\": \"histogram\"}], \"histogram2d\": [{\"colorbar\": {\"outlinewidth\": 0, \"ticks\": \"\"}, \"colorscale\": [[0.0, \"#0d0887\"], [0.1111111111111111, \"#46039f\"], [0.2222222222222222, \"#7201a8\"], [0.3333333333333333, \"#9c179e\"], [0.4444444444444444, \"#bd3786\"], [0.5555555555555556, \"#d8576b\"], [0.6666666666666666, \"#ed7953\"], [0.7777777777777778, \"#fb9f3a\"], [0.8888888888888888, \"#fdca26\"], [1.0, \"#f0f921\"]], \"type\": \"histogram2d\"}], \"histogram2dcontour\": [{\"colorbar\": {\"outlinewidth\": 0, \"ticks\": \"\"}, \"colorscale\": [[0.0, \"#0d0887\"], [0.1111111111111111, \"#46039f\"], [0.2222222222222222, \"#7201a8\"], [0.3333333333333333, \"#9c179e\"], [0.4444444444444444, \"#bd3786\"], [0.5555555555555556, \"#d8576b\"], [0.6666666666666666, \"#ed7953\"], [0.7777777777777778, \"#fb9f3a\"], [0.8888888888888888, \"#fdca26\"], [1.0, \"#f0f921\"]], \"type\": \"histogram2dcontour\"}], \"mesh3d\": [{\"colorbar\": {\"outlinewidth\": 0, \"ticks\": \"\"}, \"type\": \"mesh3d\"}], \"parcoords\": [{\"line\": {\"colorbar\": {\"outlinewidth\": 0, \"ticks\": \"\"}}, \"type\": \"parcoords\"}], \"pie\": [{\"automargin\": true, \"type\": \"pie\"}], \"scatter\": [{\"marker\": {\"colorbar\": {\"outlinewidth\": 0, \"ticks\": \"\"}}, \"type\": \"scatter\"}], \"scatter3d\": [{\"line\": {\"colorbar\": {\"outlinewidth\": 0, \"ticks\": \"\"}}, \"marker\": {\"colorbar\": {\"outlinewidth\": 0, \"ticks\": \"\"}}, \"type\": \"scatter3d\"}], \"scattercarpet\": [{\"marker\": {\"colorbar\": {\"outlinewidth\": 0, \"ticks\": \"\"}}, \"type\": \"scattercarpet\"}], \"scattergeo\": [{\"marker\": {\"colorbar\": {\"outlinewidth\": 0, \"ticks\": \"\"}}, \"type\": \"scattergeo\"}], \"scattergl\": [{\"marker\": {\"colorbar\": {\"outlinewidth\": 0, \"ticks\": \"\"}}, \"type\": \"scattergl\"}], \"scattermapbox\": [{\"marker\": {\"colorbar\": {\"outlinewidth\": 0, \"ticks\": \"\"}}, \"type\": \"scattermapbox\"}], \"scatterpolar\": [{\"marker\": {\"colorbar\": {\"outlinewidth\": 0, \"ticks\": \"\"}}, \"type\": \"scatterpolar\"}], \"scatterpolargl\": [{\"marker\": {\"colorbar\": {\"outlinewidth\": 0, \"ticks\": \"\"}}, \"type\": \"scatterpolargl\"}], \"scatterternary\": [{\"marker\": {\"colorbar\": {\"outlinewidth\": 0, \"ticks\": \"\"}}, \"type\": \"scatterternary\"}], \"surface\": [{\"colorbar\": {\"outlinewidth\": 0, \"ticks\": \"\"}, \"colorscale\": [[0.0, \"#0d0887\"], [0.1111111111111111, \"#46039f\"], [0.2222222222222222, \"#7201a8\"], [0.3333333333333333, \"#9c179e\"], [0.4444444444444444, \"#bd3786\"], [0.5555555555555556, \"#d8576b\"], [0.6666666666666666, \"#ed7953\"], [0.7777777777777778, \"#fb9f3a\"], [0.8888888888888888, \"#fdca26\"], [1.0, \"#f0f921\"]], \"type\": \"surface\"}], \"table\": [{\"cells\": {\"fill\": {\"color\": \"#EBF0F8\"}, \"line\": {\"color\": \"white\"}}, \"header\": {\"fill\": {\"color\": \"#C8D4E3\"}, \"line\": {\"color\": \"white\"}}, \"type\": \"table\"}]}, \"layout\": {\"annotationdefaults\": {\"arrowcolor\": \"#2a3f5f\", \"arrowhead\": 0, \"arrowwidth\": 1}, \"coloraxis\": {\"colorbar\": {\"outlinewidth\": 0, \"ticks\": \"\"}}, \"colorscale\": {\"diverging\": [[0, \"#8e0152\"], [0.1, \"#c51b7d\"], [0.2, \"#de77ae\"], [0.3, \"#f1b6da\"], [0.4, \"#fde0ef\"], [0.5, \"#f7f7f7\"], [0.6, \"#e6f5d0\"], [0.7, \"#b8e186\"], [0.8, \"#7fbc41\"], [0.9, \"#4d9221\"], [1, \"#276419\"]], \"sequential\": [[0.0, \"#0d0887\"], [0.1111111111111111, \"#46039f\"], [0.2222222222222222, \"#7201a8\"], [0.3333333333333333, \"#9c179e\"], [0.4444444444444444, \"#bd3786\"], [0.5555555555555556, \"#d8576b\"], [0.6666666666666666, \"#ed7953\"], [0.7777777777777778, \"#fb9f3a\"], [0.8888888888888888, \"#fdca26\"], [1.0, \"#f0f921\"]], \"sequentialminus\": [[0.0, \"#0d0887\"], [0.1111111111111111, \"#46039f\"], [0.2222222222222222, \"#7201a8\"], [0.3333333333333333, \"#9c179e\"], [0.4444444444444444, \"#bd3786\"], [0.5555555555555556, \"#d8576b\"], [0.6666666666666666, \"#ed7953\"], [0.7777777777777778, \"#fb9f3a\"], [0.8888888888888888, \"#fdca26\"], [1.0, \"#f0f921\"]]}, \"colorway\": [\"#636efa\", \"#EF553B\", \"#00cc96\", \"#ab63fa\", \"#FFA15A\", \"#19d3f3\", \"#FF6692\", \"#B6E880\", \"#FF97FF\", \"#FECB52\"], \"font\": {\"color\": \"#2a3f5f\"}, \"geo\": {\"bgcolor\": \"white\", \"lakecolor\": \"white\", \"landcolor\": \"#E5ECF6\", \"showlakes\": true, \"showland\": true, \"subunitcolor\": \"white\"}, \"hoverlabel\": {\"align\": \"left\"}, \"hovermode\": \"closest\", \"mapbox\": {\"style\": \"light\"}, \"paper_bgcolor\": \"white\", \"plot_bgcolor\": \"#E5ECF6\", \"polar\": {\"angularaxis\": {\"gridcolor\": \"white\", \"linecolor\": \"white\", \"ticks\": \"\"}, \"bgcolor\": \"#E5ECF6\", \"radialaxis\": {\"gridcolor\": \"white\", \"linecolor\": \"white\", \"ticks\": \"\"}}, \"scene\": {\"xaxis\": {\"backgroundcolor\": \"#E5ECF6\", \"gridcolor\": \"white\", \"gridwidth\": 2, \"linecolor\": \"white\", \"showbackground\": true, \"ticks\": \"\", \"zerolinecolor\": \"white\"}, \"yaxis\": {\"backgroundcolor\": \"#E5ECF6\", \"gridcolor\": \"white\", \"gridwidth\": 2, \"linecolor\": \"white\", \"showbackground\": true, \"ticks\": \"\", \"zerolinecolor\": \"white\"}, \"zaxis\": {\"backgroundcolor\": \"#E5ECF6\", \"gridcolor\": \"white\", \"gridwidth\": 2, \"linecolor\": \"white\", \"showbackground\": true, \"ticks\": \"\", \"zerolinecolor\": \"white\"}}, \"shapedefaults\": {\"line\": {\"color\": \"#2a3f5f\"}}, \"ternary\": {\"aaxis\": {\"gridcolor\": \"white\", \"linecolor\": \"white\", \"ticks\": \"\"}, \"baxis\": {\"gridcolor\": \"white\", \"linecolor\": \"white\", \"ticks\": \"\"}, \"bgcolor\": \"#E5ECF6\", \"caxis\": {\"gridcolor\": \"white\", \"linecolor\": \"white\", \"ticks\": \"\"}}, \"title\": {\"x\": 0.05}, \"xaxis\": {\"automargin\": true, \"gridcolor\": \"white\", \"linecolor\": \"white\", \"ticks\": \"\", \"title\": {\"standoff\": 15}, \"zerolinecolor\": \"white\", \"zerolinewidth\": 2}, \"yaxis\": {\"automargin\": true, \"gridcolor\": \"white\", \"linecolor\": \"white\", \"ticks\": \"\", \"title\": {\"standoff\": 15}, \"zerolinecolor\": \"white\", \"zerolinewidth\": 2}}}},\n",
              "                        {\"responsive\": true}\n",
              "                    ).then(function(){\n",
              "                            \n",
              "var gd = document.getElementById('a0c88883-3a87-4643-9cec-3c22d43c8846');\n",
              "var x = new MutationObserver(function (mutations, observer) {{\n",
              "        var display = window.getComputedStyle(gd).display;\n",
              "        if (!display || display === 'none') {{\n",
              "            console.log([gd, 'removed!']);\n",
              "            Plotly.purge(gd);\n",
              "            observer.disconnect();\n",
              "        }}\n",
              "}});\n",
              "\n",
              "// Listen for the removal of the full notebook cells\n",
              "var notebookContainer = gd.closest('#notebook-container');\n",
              "if (notebookContainer) {{\n",
              "    x.observe(notebookContainer, {childList: true});\n",
              "}}\n",
              "\n",
              "// Listen for the clearing of the current output cell\n",
              "var outputEl = gd.closest('.output');\n",
              "if (outputEl) {{\n",
              "    x.observe(outputEl, {childList: true});\n",
              "}}\n",
              "\n",
              "                        })\n",
              "                };\n",
              "                \n",
              "            </script>\n",
              "        </div>\n",
              "</body>\n",
              "</html>"
            ]
          },
          "metadata": {}
        }
      ]
    },
    {
      "cell_type": "code",
      "metadata": {
        "colab": {
          "base_uri": "https://localhost:8080/",
          "height": 542
        },
        "id": "6zkP354NWlp3",
        "outputId": "7a65f20b-caa7-4609-db9e-f740c4e4fd49"
      },
      "source": [
        "import plotly.express as px\n",
        "targets = ['Iris-setosa', 'Iris-versicolor', 'Iris-virginica']\n",
        "colors = ['r', 'g', 'b']\n",
        "fig = px.scatter_3d(finalDf1,x=\"principal component 1\",y=\"principal component 2\",z=\"principal component 3\",color=\"target\")\n",
        "fig.show()"
      ],
      "execution_count": 26,
      "outputs": [
        {
          "output_type": "display_data",
          "data": {
            "text/html": [
              "<html>\n",
              "<head><meta charset=\"utf-8\" /></head>\n",
              "<body>\n",
              "    <div>\n",
              "            <script src=\"https://cdnjs.cloudflare.com/ajax/libs/mathjax/2.7.5/MathJax.js?config=TeX-AMS-MML_SVG\"></script><script type=\"text/javascript\">if (window.MathJax) {MathJax.Hub.Config({SVG: {font: \"STIX-Web\"}});}</script>\n",
              "                <script type=\"text/javascript\">window.PlotlyConfig = {MathJaxConfig: 'local'};</script>\n",
              "        <script src=\"https://cdn.plot.ly/plotly-latest.min.js\"></script>    \n",
              "            <div id=\"9456c520-1d02-41fd-903f-5a12bdbada0d\" class=\"plotly-graph-div\" style=\"height:525px; width:100%;\"></div>\n",
              "            <script type=\"text/javascript\">\n",
              "                \n",
              "                    window.PLOTLYENV=window.PLOTLYENV || {};\n",
              "                    \n",
              "                if (document.getElementById(\"9456c520-1d02-41fd-903f-5a12bdbada0d\")) {\n",
              "                    Plotly.newPlot(\n",
              "                        '9456c520-1d02-41fd-903f-5a12bdbada0d',\n",
              "                        [{\"hoverlabel\": {\"namelength\": 0}, \"hovertemplate\": \"target=Iris-setosa<br>principal component 1=%{x}<br>principal component 2=%{y}<br>principal component 3=%{z}\", \"legendgroup\": \"target=Iris-setosa\", \"marker\": {\"color\": \"#636efa\", \"symbol\": \"circle\"}, \"mode\": \"markers\", \"name\": \"target=Iris-setosa\", \"scene\": \"scene\", \"showlegend\": true, \"type\": \"scatter3d\", \"x\": [1.2196928879424753, 3.5280676784465146, 1.5238958047993438, 4.01618001262777, 2.7604089974317376, 1.5214085426584008, 3.020625505730102, 2.1928395438553756, 1.6378433992815644, 1.9178325242039902, 3.124107541511769, 0.9909669235758404, 2.198230317654586, 1.750352473977924, 2.289211880199351, 1.468525177847024, 2.0425371057121597, 2.12506958835028, 2.8262314610289616, 1.8294830643680984, 0.6276518250685257, 3.1913681930449944, 3.649231835397623, 0.2036951351087019, 1.708543617190826, 1.7817292413375683, 1.6922637065127153, 1.2682911445479714, 2.9034081798201203, 1.7385773620347875, 1.3628304848393917, 1.5323664255972063, 0.9299313475269461, 2.771146695617227, 2.3688540929678448, 2.6098270253490075, 2.075443536006721, 1.8008386761879003, 2.215975212362693, 1.496367712033821, 1.909098230380389, 3.163771592307987, 2.0634983951688444, 1.5371723311019756, 1.87169785920716, 3.3308167785634994, 0.916163115200636, 2.6282787342879677, 2.4356058801291205, 2.075754935063421], \"y\": [-2.1219222780177884, 0.8748354329329138, 1.098059382541885, 2.145598371348804, -1.3649154060399895, -1.103150890758286, -0.4861552903161178, -1.4814286962570635, -1.638464471834366, -1.5663584703378135, 1.6656110804978836, -0.6133187032608344, -0.7101845305579847, -0.7588389535101537, -2.620698150765288, -1.0572597863200162, 1.0716021232114712, -2.201307893825845, 1.8629038308786743, -0.18941340127302014, -2.3858263434760576, 0.3979148695987999, 0.48296803567567703, -3.66815475600201, -0.2712032464539814, -0.11715152526520989, -0.7919345533258363, -1.958147210989082, 0.8180898921025704, -0.3936331455049743, 0.8236687843741454, -0.6323750735121917, -1.495017156652297, 1.7382780043114676, -0.6457675411045509, -1.1794221705415098, 2.5859982981965, -1.5486539645357482, -1.7514294504802277, -1.5631843791701363, 1.3094196283954018, 1.6813160879791056, -1.3021711154727362, 1.4590567919210615, -1.8375117401636925, -0.13389345218207502, -2.6096497140907644, -0.9873950617455158, -2.8923512894449974, -1.0051878288078726], \"z\": [-0.90286550408249, 3.344303436210036, -3.2762758673643284, 2.6268260846790272, 0.803313862961194, -1.323395560724699, -0.26184196210352617, 0.305140987869046, -0.3953636194952004, 0.3045117541589715, -0.40696339653795205, -2.3599621089643437, -0.46106464494851196, -1.5596185200278843, -0.1603016462112365, -1.6114242017763705, -1.4029310849712227, 0.5677581764352068, -0.09180761279210867, -3.3672580094312794, -2.7339072708173116, 0.857840318862195, 0.6431138124254956, -2.1226559612898175, -1.5839071395863449, -1.0423623878596888, -1.5786224502645954, -1.4811161033138862, 1.0495417805828642, -1.4308409078760078, -2.367768771319996, -1.4204417813641714, -3.209405420680413, -1.5668060335478888, -0.3317815308203447, 2.758923003677032, -2.755579417842927, -0.8577228772681653, 0.48762845682709943, -0.6629968490776956, -3.195612249721598, 1.3883461663088612, -0.1475161811655677, -0.5914071544697458, -0.6057585814789004, 0.2214669425613963, -1.7461610820364333, 1.0853137056104412, 1.8389013703434016, -0.6830151655920512]}, {\"hoverlabel\": {\"namelength\": 0}, \"hovertemplate\": \"target=Iris-versicolor<br>principal component 1=%{x}<br>principal component 2=%{y}<br>principal component 3=%{z}\", \"legendgroup\": \"target=Iris-versicolor\", \"marker\": {\"color\": \"#EF553B\", \"symbol\": \"circle\"}, \"mode\": \"markers\", \"name\": \"target=Iris-versicolor\", \"scene\": \"scene\", \"showlegend\": true, \"type\": \"scatter3d\", \"x\": [-1.5816005718192314, -0.04961221094193906, -2.657517410364284, -0.2710574831767694, 0.03413143269467746, -0.39261039029890316, -1.2825731611007691, -0.2837925945161005, -0.8601733810551668, -0.20031912217616185, 0.24406844172056563, 0.1881999195357626, -1.1294333894660027, 1.068293400531212, 0.8049406961997869, -0.8735304379960626, 0.5747817052924741, 0.461392393889269, -1.282431873309685, -0.1996755250802525, 0.5742312406809568, -0.5871728023004753, -0.6098981338134721, 0.34913629304589505, -0.8391507285279365, -2.0988022840464686, -0.3614860285113597, -0.6394355719632884, -1.4885051329985914, 0.146630582565072, 0.7317658349410241, 0.5312501419374208, -0.6841789376593865, -0.8602334377710139, -0.6264155971726848, -0.08645559569895155, -0.4057546986544622, 0.45364370512313273, -0.9574302384266076, 0.36630691787482, -0.2102706807292442, -1.6777220648318505, -0.20770483841314655, 1.2723308087434413, -1.7210234922198104, -0.4883378593342248, 0.6609612441164332, -1.3538248674062807, -0.6305369007723938, -0.5724195307577323], \"y\": [0.42693183754083275, 0.639274706668455, -1.162932892433864, -0.5328174164144864, -0.5567926231720218, -1.449423660894335, -0.3629743221787002, -1.2390098207427263, -1.0792702854194793, 1.6174732270628198, -0.7221958250353598, 3.143583576082154, 0.31514577587454107, 2.052050472336649, 0.8292850135181866, -0.9220583480496453, 2.707151780133296, 1.2546797261466045, -0.3863211124099499, -0.618409451593445, 3.7750078035464574, -1.0503110848816735, 0.5715082309921029, 2.571869787696458, -1.8730936222047043, -2.465006936413712, 2.323937775356554, -0.7888746863719184, 0.8048835644774244, 0.16360781973961208, -2.109356365422874, 1.7632809196618635, -3.1794863284055457, 0.6161612962610024, -0.29737609125731584, -0.12703026809301607, 0.6944023503958546, 0.30302528843513643, -2.250986399871551, 3.303789877911891, 0.22314923481678917, -1.361753316754574, -0.029434208250681916, 1.8266847808024471, -2.696663573664766, 0.6052811996304451, 1.0900436201823145, -2.1107685817164534, -1.4401851702948343, 0.9139806493936418], \"z\": [-0.09293214139016914, 0.9668786413962169, -1.4379654078827133, 1.5529935827254266, 3.350543112926553, -0.9224835291575495, 0.7010776983960119, -1.4061296178632514, 1.4847252026927296, -0.11917261333351484, -0.03777041212722196, -0.9594621412603921, -1.5439136214754385, 2.874793269426429, 1.1911527453693849, 1.0933190928149894, 0.6318310367167668, -0.03360491086750907, 0.8579608830175424, 1.5928039573730117, 0.0662080805294899, 0.4585120235434406, 2.1122618922921648, 0.45744337851261446, 0.1781987841191275, -0.36275013645210635, 0.4249969484729, 1.8427596193013565, -0.6695930011150261, 0.9849503831663533, 2.3904197268277967, 1.2600772944911631, 1.7410400380526043, -1.0026888707040476, -1.0897520743831763, 2.291837130259291, 0.4953760047403362, 2.7103514034260034, 0.2586727618049261, -1.273700809045902, 0.42906601610669454, -1.5358319351051273, 1.4524082461321555, 0.2275969576417005, -2.2617352086862152, -0.4119387570239335, 1.0739294659648455, -0.5861177474694279, -1.6309938960794, -2.386044360022085]}, {\"hoverlabel\": {\"namelength\": 0}, \"hovertemplate\": \"target=Iris-virginica<br>principal component 1=%{x}<br>principal component 2=%{y}<br>principal component 3=%{z}\", \"legendgroup\": \"target=Iris-virginica\", \"marker\": {\"color\": \"#00cc96\", \"symbol\": \"circle\"}, \"mode\": \"markers\", \"name\": \"target=Iris-virginica\", \"scene\": \"scene\", \"showlegend\": true, \"type\": \"scatter3d\", \"x\": [-1.2409907418043988, -2.793074090342295, -1.8384702737535266, -3.015928633947748, -1.7560764275060463, -1.086298702227556, -1.0663959131297014, -1.3848726725777156, -1.3960524337226479, -2.567032974315299, 0.32096446164677694, -1.4834703658872006, -0.8079974272635841, -1.3018566139151202, -0.9955056723229142, -1.506044805221755, -1.344928812027365, -1.286857214231699, -3.6166738962504326, -0.6074142581527722, -2.4101333360456123, -1.8289340772126557, -2.3249475170072498, -1.576177824916527, -1.9503655317362316, -0.6979557548232014, -0.7077009821501671, -2.058177918363672, -3.1304560592199167, -2.5695520209257015, -1.5886245249632474, -1.6867547974781076, -1.1711505693724862, -2.485394848798975, -0.7321632795672359, -1.6515872636479354, -1.5889222109223942, -2.2618708038140993, -1.7497318044041148, -1.8460902690916956, -2.9436314479730696, -1.6823969639795968, -1.6365519521988237, -1.940765965543068, -1.305368912985992, -2.815296165476227, -1.2488132793449207, -2.4332264780041064, -0.5750969735632492, -0.7618705162648651], \"y\": [2.5523914002067483, -3.831001164756756, -2.639823433980851, -1.6569980301675806, -0.15950810817765756, 3.477553618748981, -1.3196866371387175, 2.9150486770521296, -0.3754824711441545, 0.41354657427445446, 0.48340971752662987, 2.2741021043957264, 1.899183880964757, 2.8874671447652243, 1.1100234477891255, 0.32259766391711964, -0.4259401346579899, -0.3281310117230026, -0.7619205055376292, -1.3788257822095145, 1.451264354991674, -1.0730328577258994, -0.0498365743072361, 1.1602448408773636, -1.278335548906473, 3.7278349301335307, 3.01265828475605, -1.3893090240258033, -1.852018842346925, 0.39595992909133754, 2.686959374721434, 2.53103308589193, 0.3192645467496099, -0.4323879988608854, 1.456734370018383, 0.04686072324835477, 1.216666166273453, -1.024406040200296, 1.4865901885366042, 4.253705734870798, 0.23803810658800617, -0.9925920286704969, -1.7127815141883467, -0.3938511657095747, 0.37264582391534556, 0.2725946990696647, -0.7268305109097801, 0.3504820718983788, 1.0157436661631003, 2.8165933632234608], \"z\": [0.38704445716076896, -0.30050626376485035, 2.8414591391176858, -1.4936546037579952, -0.39517973450573207, 2.8359090173069217, 0.2792922883383748, -0.8748058368624331, 0.5785411530778252, 0.4980120824364789, 4.189567489101153, -0.9931615412840009, 0.6426040010594605, -3.2432532391067137, 0.005089009851663274, 0.30588158860267717, 0.9143821035880763, 4.0899775822406195, 1.648827670750146, 2.1049196839739346, -1.6791537727499297, -1.052240579504475, 2.155179880708017, -1.6090925860035292, 1.544230599374642, 1.9815263680787298, -0.8685829733327761, -0.39538147593907513, -0.841718783098118, -1.3325700937836227, -0.43441638892706513, 0.48517049344719854, 1.2014228691061661, -2.5353044814367602, 2.414243238759622, 4.391198510019331, 0.4472520188666976, -0.8683046165731076, -2.3951103532519484, -2.5466612038793532, -1.10940500957374, 1.4794017100869372, 1.179170480925967, 1.1639451953289073, 0.5822051268609177, -1.6020021688924933, 1.0748010777077983, -0.7009266347584311, 0.6872218130722226, -0.8131192974461497]}],\n",
              "                        {\"legend\": {\"tracegroupgap\": 0}, \"margin\": {\"t\": 60}, \"scene\": {\"domain\": {\"x\": [0.0, 1.0], \"y\": [0.0, 1.0]}, \"xaxis\": {\"title\": {\"text\": \"principal component 1\"}}, \"yaxis\": {\"title\": {\"text\": \"principal component 2\"}}, \"zaxis\": {\"title\": {\"text\": \"principal component 3\"}}}, \"template\": {\"data\": {\"bar\": [{\"error_x\": {\"color\": \"#2a3f5f\"}, \"error_y\": {\"color\": \"#2a3f5f\"}, \"marker\": {\"line\": {\"color\": \"#E5ECF6\", \"width\": 0.5}}, \"type\": \"bar\"}], \"barpolar\": [{\"marker\": {\"line\": {\"color\": \"#E5ECF6\", \"width\": 0.5}}, \"type\": \"barpolar\"}], \"carpet\": [{\"aaxis\": {\"endlinecolor\": \"#2a3f5f\", \"gridcolor\": \"white\", \"linecolor\": \"white\", \"minorgridcolor\": \"white\", \"startlinecolor\": \"#2a3f5f\"}, \"baxis\": {\"endlinecolor\": \"#2a3f5f\", \"gridcolor\": \"white\", \"linecolor\": \"white\", \"minorgridcolor\": \"white\", \"startlinecolor\": \"#2a3f5f\"}, \"type\": \"carpet\"}], \"choropleth\": [{\"colorbar\": {\"outlinewidth\": 0, \"ticks\": \"\"}, \"type\": \"choropleth\"}], \"contour\": [{\"colorbar\": {\"outlinewidth\": 0, \"ticks\": \"\"}, \"colorscale\": [[0.0, \"#0d0887\"], [0.1111111111111111, \"#46039f\"], [0.2222222222222222, \"#7201a8\"], [0.3333333333333333, \"#9c179e\"], [0.4444444444444444, \"#bd3786\"], [0.5555555555555556, \"#d8576b\"], [0.6666666666666666, \"#ed7953\"], [0.7777777777777778, \"#fb9f3a\"], [0.8888888888888888, \"#fdca26\"], [1.0, \"#f0f921\"]], \"type\": \"contour\"}], \"contourcarpet\": [{\"colorbar\": {\"outlinewidth\": 0, \"ticks\": \"\"}, \"type\": \"contourcarpet\"}], \"heatmap\": [{\"colorbar\": {\"outlinewidth\": 0, \"ticks\": \"\"}, \"colorscale\": [[0.0, \"#0d0887\"], [0.1111111111111111, \"#46039f\"], [0.2222222222222222, \"#7201a8\"], [0.3333333333333333, \"#9c179e\"], [0.4444444444444444, \"#bd3786\"], [0.5555555555555556, \"#d8576b\"], [0.6666666666666666, \"#ed7953\"], [0.7777777777777778, \"#fb9f3a\"], [0.8888888888888888, \"#fdca26\"], [1.0, \"#f0f921\"]], \"type\": \"heatmap\"}], \"heatmapgl\": [{\"colorbar\": {\"outlinewidth\": 0, \"ticks\": \"\"}, \"colorscale\": [[0.0, \"#0d0887\"], [0.1111111111111111, \"#46039f\"], [0.2222222222222222, \"#7201a8\"], [0.3333333333333333, \"#9c179e\"], [0.4444444444444444, \"#bd3786\"], [0.5555555555555556, \"#d8576b\"], [0.6666666666666666, \"#ed7953\"], [0.7777777777777778, \"#fb9f3a\"], [0.8888888888888888, \"#fdca26\"], [1.0, \"#f0f921\"]], \"type\": \"heatmapgl\"}], \"histogram\": [{\"marker\": {\"colorbar\": {\"outlinewidth\": 0, \"ticks\": \"\"}}, \"type\": \"histogram\"}], \"histogram2d\": [{\"colorbar\": {\"outlinewidth\": 0, \"ticks\": \"\"}, \"colorscale\": [[0.0, \"#0d0887\"], [0.1111111111111111, \"#46039f\"], [0.2222222222222222, \"#7201a8\"], [0.3333333333333333, \"#9c179e\"], [0.4444444444444444, \"#bd3786\"], [0.5555555555555556, \"#d8576b\"], [0.6666666666666666, \"#ed7953\"], [0.7777777777777778, \"#fb9f3a\"], [0.8888888888888888, \"#fdca26\"], [1.0, \"#f0f921\"]], \"type\": \"histogram2d\"}], \"histogram2dcontour\": [{\"colorbar\": {\"outlinewidth\": 0, \"ticks\": \"\"}, \"colorscale\": [[0.0, \"#0d0887\"], [0.1111111111111111, \"#46039f\"], [0.2222222222222222, \"#7201a8\"], [0.3333333333333333, \"#9c179e\"], [0.4444444444444444, \"#bd3786\"], [0.5555555555555556, \"#d8576b\"], [0.6666666666666666, \"#ed7953\"], [0.7777777777777778, \"#fb9f3a\"], [0.8888888888888888, \"#fdca26\"], [1.0, \"#f0f921\"]], \"type\": \"histogram2dcontour\"}], \"mesh3d\": [{\"colorbar\": {\"outlinewidth\": 0, \"ticks\": \"\"}, \"type\": \"mesh3d\"}], \"parcoords\": [{\"line\": {\"colorbar\": {\"outlinewidth\": 0, \"ticks\": \"\"}}, \"type\": \"parcoords\"}], \"pie\": [{\"automargin\": true, \"type\": \"pie\"}], \"scatter\": [{\"marker\": {\"colorbar\": {\"outlinewidth\": 0, \"ticks\": \"\"}}, \"type\": \"scatter\"}], \"scatter3d\": [{\"line\": {\"colorbar\": {\"outlinewidth\": 0, \"ticks\": \"\"}}, \"marker\": {\"colorbar\": {\"outlinewidth\": 0, \"ticks\": \"\"}}, \"type\": \"scatter3d\"}], \"scattercarpet\": [{\"marker\": {\"colorbar\": {\"outlinewidth\": 0, \"ticks\": \"\"}}, \"type\": \"scattercarpet\"}], \"scattergeo\": [{\"marker\": {\"colorbar\": {\"outlinewidth\": 0, \"ticks\": \"\"}}, \"type\": \"scattergeo\"}], \"scattergl\": [{\"marker\": {\"colorbar\": {\"outlinewidth\": 0, \"ticks\": \"\"}}, \"type\": \"scattergl\"}], \"scattermapbox\": [{\"marker\": {\"colorbar\": {\"outlinewidth\": 0, \"ticks\": \"\"}}, \"type\": \"scattermapbox\"}], \"scatterpolar\": [{\"marker\": {\"colorbar\": {\"outlinewidth\": 0, \"ticks\": \"\"}}, \"type\": \"scatterpolar\"}], \"scatterpolargl\": [{\"marker\": {\"colorbar\": {\"outlinewidth\": 0, \"ticks\": \"\"}}, \"type\": \"scatterpolargl\"}], \"scatterternary\": [{\"marker\": {\"colorbar\": {\"outlinewidth\": 0, \"ticks\": \"\"}}, \"type\": \"scatterternary\"}], \"surface\": [{\"colorbar\": {\"outlinewidth\": 0, \"ticks\": \"\"}, \"colorscale\": [[0.0, \"#0d0887\"], [0.1111111111111111, \"#46039f\"], [0.2222222222222222, \"#7201a8\"], [0.3333333333333333, \"#9c179e\"], [0.4444444444444444, \"#bd3786\"], [0.5555555555555556, \"#d8576b\"], [0.6666666666666666, \"#ed7953\"], [0.7777777777777778, \"#fb9f3a\"], [0.8888888888888888, \"#fdca26\"], [1.0, \"#f0f921\"]], \"type\": \"surface\"}], \"table\": [{\"cells\": {\"fill\": {\"color\": \"#EBF0F8\"}, \"line\": {\"color\": \"white\"}}, \"header\": {\"fill\": {\"color\": \"#C8D4E3\"}, \"line\": {\"color\": \"white\"}}, \"type\": \"table\"}]}, \"layout\": {\"annotationdefaults\": {\"arrowcolor\": \"#2a3f5f\", \"arrowhead\": 0, \"arrowwidth\": 1}, \"coloraxis\": {\"colorbar\": {\"outlinewidth\": 0, \"ticks\": \"\"}}, \"colorscale\": {\"diverging\": [[0, \"#8e0152\"], [0.1, \"#c51b7d\"], [0.2, \"#de77ae\"], [0.3, \"#f1b6da\"], [0.4, \"#fde0ef\"], [0.5, \"#f7f7f7\"], [0.6, \"#e6f5d0\"], [0.7, \"#b8e186\"], [0.8, \"#7fbc41\"], [0.9, \"#4d9221\"], [1, \"#276419\"]], \"sequential\": [[0.0, \"#0d0887\"], [0.1111111111111111, \"#46039f\"], [0.2222222222222222, \"#7201a8\"], [0.3333333333333333, \"#9c179e\"], [0.4444444444444444, \"#bd3786\"], [0.5555555555555556, \"#d8576b\"], [0.6666666666666666, \"#ed7953\"], [0.7777777777777778, \"#fb9f3a\"], [0.8888888888888888, \"#fdca26\"], [1.0, \"#f0f921\"]], \"sequentialminus\": [[0.0, \"#0d0887\"], [0.1111111111111111, \"#46039f\"], [0.2222222222222222, \"#7201a8\"], [0.3333333333333333, \"#9c179e\"], [0.4444444444444444, \"#bd3786\"], [0.5555555555555556, \"#d8576b\"], [0.6666666666666666, \"#ed7953\"], [0.7777777777777778, \"#fb9f3a\"], [0.8888888888888888, \"#fdca26\"], [1.0, \"#f0f921\"]]}, \"colorway\": [\"#636efa\", \"#EF553B\", \"#00cc96\", \"#ab63fa\", \"#FFA15A\", \"#19d3f3\", \"#FF6692\", \"#B6E880\", \"#FF97FF\", \"#FECB52\"], \"font\": {\"color\": \"#2a3f5f\"}, \"geo\": {\"bgcolor\": \"white\", \"lakecolor\": \"white\", \"landcolor\": \"#E5ECF6\", \"showlakes\": true, \"showland\": true, \"subunitcolor\": \"white\"}, \"hoverlabel\": {\"align\": \"left\"}, \"hovermode\": \"closest\", \"mapbox\": {\"style\": \"light\"}, \"paper_bgcolor\": \"white\", \"plot_bgcolor\": \"#E5ECF6\", \"polar\": {\"angularaxis\": {\"gridcolor\": \"white\", \"linecolor\": \"white\", \"ticks\": \"\"}, \"bgcolor\": \"#E5ECF6\", \"radialaxis\": {\"gridcolor\": \"white\", \"linecolor\": \"white\", \"ticks\": \"\"}}, \"scene\": {\"xaxis\": {\"backgroundcolor\": \"#E5ECF6\", \"gridcolor\": \"white\", \"gridwidth\": 2, \"linecolor\": \"white\", \"showbackground\": true, \"ticks\": \"\", \"zerolinecolor\": \"white\"}, \"yaxis\": {\"backgroundcolor\": \"#E5ECF6\", \"gridcolor\": \"white\", \"gridwidth\": 2, \"linecolor\": \"white\", \"showbackground\": true, \"ticks\": \"\", \"zerolinecolor\": \"white\"}, \"zaxis\": {\"backgroundcolor\": \"#E5ECF6\", \"gridcolor\": \"white\", \"gridwidth\": 2, \"linecolor\": \"white\", \"showbackground\": true, \"ticks\": \"\", \"zerolinecolor\": \"white\"}}, \"shapedefaults\": {\"line\": {\"color\": \"#2a3f5f\"}}, \"ternary\": {\"aaxis\": {\"gridcolor\": \"white\", \"linecolor\": \"white\", \"ticks\": \"\"}, \"baxis\": {\"gridcolor\": \"white\", \"linecolor\": \"white\", \"ticks\": \"\"}, \"bgcolor\": \"#E5ECF6\", \"caxis\": {\"gridcolor\": \"white\", \"linecolor\": \"white\", \"ticks\": \"\"}}, \"title\": {\"x\": 0.05}, \"xaxis\": {\"automargin\": true, \"gridcolor\": \"white\", \"linecolor\": \"white\", \"ticks\": \"\", \"title\": {\"standoff\": 15}, \"zerolinecolor\": \"white\", \"zerolinewidth\": 2}, \"yaxis\": {\"automargin\": true, \"gridcolor\": \"white\", \"linecolor\": \"white\", \"ticks\": \"\", \"title\": {\"standoff\": 15}, \"zerolinecolor\": \"white\", \"zerolinewidth\": 2}}}},\n",
              "                        {\"responsive\": true}\n",
              "                    ).then(function(){\n",
              "                            \n",
              "var gd = document.getElementById('9456c520-1d02-41fd-903f-5a12bdbada0d');\n",
              "var x = new MutationObserver(function (mutations, observer) {{\n",
              "        var display = window.getComputedStyle(gd).display;\n",
              "        if (!display || display === 'none') {{\n",
              "            console.log([gd, 'removed!']);\n",
              "            Plotly.purge(gd);\n",
              "            observer.disconnect();\n",
              "        }}\n",
              "}});\n",
              "\n",
              "// Listen for the removal of the full notebook cells\n",
              "var notebookContainer = gd.closest('#notebook-container');\n",
              "if (notebookContainer) {{\n",
              "    x.observe(notebookContainer, {childList: true});\n",
              "}}\n",
              "\n",
              "// Listen for the clearing of the current output cell\n",
              "var outputEl = gd.closest('.output');\n",
              "if (outputEl) {{\n",
              "    x.observe(outputEl, {childList: true});\n",
              "}}\n",
              "\n",
              "                        })\n",
              "                };\n",
              "                \n",
              "            </script>\n",
              "        </div>\n",
              "</body>\n",
              "</html>"
            ]
          },
          "metadata": {}
        }
      ]
    },
    {
      "cell_type": "code",
      "metadata": {
        "colab": {
          "base_uri": "https://localhost:8080/"
        },
        "id": "XoQoewN8WuB-",
        "outputId": "f9b2bc20-c531-47ae-f25f-27c1b8a69391"
      },
      "source": [
        "#Before using Feature Selection\n",
        "model_logistic = LogisticRegression(multi_class='multinomial', max_iter=1000)\n",
        "model_logistic.fit(X_train, y_train)\n",
        "predict = model_logistic.predict(X_test)\n",
        "print(confusion_matrix(y_test, predict))\n",
        "print(classification_report(y_test, predict))"
      ],
      "execution_count": 27,
      "outputs": [
        {
          "output_type": "stream",
          "name": "stdout",
          "text": [
            "[[14  0  0]\n",
            " [ 0 16  2]\n",
            " [ 0  2 11]]\n",
            "              precision    recall  f1-score   support\n",
            "\n",
            "           0       1.00      1.00      1.00        14\n",
            "           1       0.89      0.89      0.89        18\n",
            "           2       0.85      0.85      0.85        13\n",
            "\n",
            "    accuracy                           0.91        45\n",
            "   macro avg       0.91      0.91      0.91        45\n",
            "weighted avg       0.91      0.91      0.91        45\n",
            "\n"
          ]
        }
      ]
    },
    {
      "cell_type": "code",
      "metadata": {
        "colab": {
          "base_uri": "https://localhost:8080/"
        },
        "id": "ODhcMg3eWw7g",
        "outputId": "984fcbf5-7232-4f6f-e2b2-a692df3256ab"
      },
      "source": [
        "#After using Feature Selection\n",
        "model_logistic = LogisticRegression(solver='saga', multi_class='multinomial', max_iter=10000)\n",
        "model_logistic.fit(X_train_f, y_train)"
      ],
      "execution_count": 28,
      "outputs": [
        {
          "output_type": "execute_result",
          "data": {
            "text/plain": [
              "LogisticRegression(C=1.0, class_weight=None, dual=False, fit_intercept=True,\n",
              "                   intercept_scaling=1, l1_ratio=None, max_iter=10000,\n",
              "                   multi_class='multinomial', n_jobs=None, penalty='l2',\n",
              "                   random_state=None, solver='saga', tol=0.0001, verbose=0,\n",
              "                   warm_start=False)"
            ]
          },
          "metadata": {},
          "execution_count": 28
        }
      ]
    },
    {
      "cell_type": "code",
      "metadata": {
        "colab": {
          "base_uri": "https://localhost:8080/"
        },
        "id": "pzIZPlF7WzkB",
        "outputId": "1a561e88-ea1e-4ae2-fe97-00a2b6cd746f"
      },
      "source": [
        "X_test_f = sel_f.transform(X_test)\n",
        "print(X_test.shape)\n",
        "print(X_test_f.shape)"
      ],
      "execution_count": 29,
      "outputs": [
        {
          "output_type": "stream",
          "name": "stdout",
          "text": [
            "(45, 24)\n",
            "(45, 4)\n"
          ]
        }
      ]
    },
    {
      "cell_type": "code",
      "metadata": {
        "id": "qURquIBnW2T9",
        "colab": {
          "base_uri": "https://localhost:8080/"
        },
        "outputId": "54ce7c3f-89a2-45a2-e3c6-8eed5501a19b"
      },
      "source": [
        "predict = model_logistic.predict(X_test_f)\n",
        "print(confusion_matrix(y_test, predict))\n",
        "print(classification_report(y_test, predict))"
      ],
      "execution_count": 30,
      "outputs": [
        {
          "output_type": "stream",
          "name": "stdout",
          "text": [
            "[[14  0  0]\n",
            " [ 0 17  1]\n",
            " [ 0  0 13]]\n",
            "              precision    recall  f1-score   support\n",
            "\n",
            "           0       1.00      1.00      1.00        14\n",
            "           1       1.00      0.94      0.97        18\n",
            "           2       0.93      1.00      0.96        13\n",
            "\n",
            "    accuracy                           0.98        45\n",
            "   macro avg       0.98      0.98      0.98        45\n",
            "weighted avg       0.98      0.98      0.98        45\n",
            "\n"
          ]
        }
      ]
    }
  ]
}