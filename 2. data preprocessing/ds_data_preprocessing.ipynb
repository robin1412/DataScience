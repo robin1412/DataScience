{
  "nbformat": 4,
  "nbformat_minor": 0,
  "metadata": {
    "colab": {
      "name": "ds-data-preprocessing.ipynb",
      "provenance": [],
      "collapsed_sections": []
    },
    "kernelspec": {
      "name": "python3",
      "display_name": "Python 3"
    },
    "language_info": {
      "name": "python"
    }
  },
  "cells": [
    {
      "cell_type": "code",
      "metadata": {
        "id": "QTFbOPJo5bLa"
      },
      "source": [
        "import sklearn\n",
        "from sklearn import preprocessing\n",
        "import pandas as pd\n",
        "import numpy as np"
      ],
      "execution_count": 10,
      "outputs": []
    },
    {
      "cell_type": "code",
      "metadata": {
        "colab": {
          "base_uri": "https://localhost:8080/"
        },
        "id": "7LFzkaR06YMS",
        "outputId": "1297df29-1f88-4f35-e960-d7618454bc88"
      },
      "source": [
        "from google.colab import drive\n",
        "drive.mount('/content/drive')"
      ],
      "execution_count": 9,
      "outputs": [
        {
          "output_type": "stream",
          "text": [
            "Drive already mounted at /content/drive; to attempt to forcibly remount, call drive.mount(\"/content/drive\", force_remount=True).\n"
          ],
          "name": "stdout"
        }
      ]
    },
    {
      "cell_type": "code",
      "metadata": {
        "id": "ZsfeNpJq6sJZ"
      },
      "source": [
        "data = pd.read_csv(\"/content/drive/MyDrive/dataset/Iris.csv\")"
      ],
      "execution_count": 62,
      "outputs": []
    },
    {
      "cell_type": "code",
      "metadata": {
        "colab": {
          "base_uri": "https://localhost:8080/",
          "height": 204
        },
        "id": "nKJPkfSQ7-1M",
        "outputId": "ee2ce46f-835d-4d29-c037-00b810ee53b1"
      },
      "source": [
        "data.head()"
      ],
      "execution_count": 59,
      "outputs": [
        {
          "output_type": "execute_result",
          "data": {
            "text/html": [
              "<div>\n",
              "<style scoped>\n",
              "    .dataframe tbody tr th:only-of-type {\n",
              "        vertical-align: middle;\n",
              "    }\n",
              "\n",
              "    .dataframe tbody tr th {\n",
              "        vertical-align: top;\n",
              "    }\n",
              "\n",
              "    .dataframe thead th {\n",
              "        text-align: right;\n",
              "    }\n",
              "</style>\n",
              "<table border=\"1\" class=\"dataframe\">\n",
              "  <thead>\n",
              "    <tr style=\"text-align: right;\">\n",
              "      <th></th>\n",
              "      <th>Id</th>\n",
              "      <th>SepalLengthCm</th>\n",
              "      <th>SepalWidthCm</th>\n",
              "      <th>PetalLengthCm</th>\n",
              "      <th>PetalWidthCm</th>\n",
              "      <th>Species</th>\n",
              "    </tr>\n",
              "  </thead>\n",
              "  <tbody>\n",
              "    <tr>\n",
              "      <th>0</th>\n",
              "      <td>1</td>\n",
              "      <td>5.1</td>\n",
              "      <td>3.5</td>\n",
              "      <td>1.4</td>\n",
              "      <td>0.2</td>\n",
              "      <td>Iris-setosa</td>\n",
              "    </tr>\n",
              "    <tr>\n",
              "      <th>1</th>\n",
              "      <td>2</td>\n",
              "      <td>4.9</td>\n",
              "      <td>3.0</td>\n",
              "      <td>1.4</td>\n",
              "      <td>0.2</td>\n",
              "      <td>Iris-setosa</td>\n",
              "    </tr>\n",
              "    <tr>\n",
              "      <th>2</th>\n",
              "      <td>3</td>\n",
              "      <td>4.7</td>\n",
              "      <td>3.2</td>\n",
              "      <td>1.3</td>\n",
              "      <td>0.2</td>\n",
              "      <td>Iris-setosa</td>\n",
              "    </tr>\n",
              "    <tr>\n",
              "      <th>3</th>\n",
              "      <td>4</td>\n",
              "      <td>4.6</td>\n",
              "      <td>3.1</td>\n",
              "      <td>1.5</td>\n",
              "      <td>0.2</td>\n",
              "      <td>Iris-setosa</td>\n",
              "    </tr>\n",
              "    <tr>\n",
              "      <th>4</th>\n",
              "      <td>5</td>\n",
              "      <td>5.0</td>\n",
              "      <td>3.6</td>\n",
              "      <td>1.4</td>\n",
              "      <td>0.2</td>\n",
              "      <td>Iris-setosa</td>\n",
              "    </tr>\n",
              "  </tbody>\n",
              "</table>\n",
              "</div>"
            ],
            "text/plain": [
              "   Id  SepalLengthCm  SepalWidthCm  PetalLengthCm  PetalWidthCm      Species\n",
              "0   1            5.1           3.5            1.4           0.2  Iris-setosa\n",
              "1   2            4.9           3.0            1.4           0.2  Iris-setosa\n",
              "2   3            4.7           3.2            1.3           0.2  Iris-setosa\n",
              "3   4            4.6           3.1            1.5           0.2  Iris-setosa\n",
              "4   5            5.0           3.6            1.4           0.2  Iris-setosa"
            ]
          },
          "metadata": {
            "tags": []
          },
          "execution_count": 59
        }
      ]
    },
    {
      "cell_type": "code",
      "metadata": {
        "colab": {
          "base_uri": "https://localhost:8080/"
        },
        "id": "po7CnnTA76Bi",
        "outputId": "7fed86ba-1e54-42dc-f8d1-352a28160d5a"
      },
      "source": [
        "data.info()"
      ],
      "execution_count": 49,
      "outputs": [
        {
          "output_type": "stream",
          "text": [
            "<class 'pandas.core.frame.DataFrame'>\n",
            "RangeIndex: 150 entries, 0 to 149\n",
            "Data columns (total 6 columns):\n",
            " #   Column         Non-Null Count  Dtype  \n",
            "---  ------         --------------  -----  \n",
            " 0   Id             150 non-null    int64  \n",
            " 1   SepalLengthCm  139 non-null    float64\n",
            " 2   SepalWidthCm   150 non-null    float64\n",
            " 3   PetalLengthCm  150 non-null    float64\n",
            " 4   PetalWidthCm   150 non-null    float64\n",
            " 5   Species        150 non-null    object \n",
            "dtypes: float64(4), int64(1), object(1)\n",
            "memory usage: 7.2+ KB\n"
          ],
          "name": "stdout"
        }
      ]
    },
    {
      "cell_type": "markdown",
      "metadata": {
        "id": "CN2gIJhUDUAL"
      },
      "source": [
        "**Encoding**"
      ]
    },
    {
      "cell_type": "code",
      "metadata": {
        "colab": {
          "base_uri": "https://localhost:8080/"
        },
        "id": "fqJ7vzrG9Rne",
        "outputId": "772dd181-452f-4bae-b773-bb3d2366779c"
      },
      "source": [
        "from sklearn.preprocessing import LabelEncoder , OneHotEncoder\n",
        "df = data\n",
        "df['Species'].value_counts()\n",
        "lenc = LabelEncoder()\n",
        "df['Species'] = lenc.fit_transform(df['Species'])\n",
        "print(df['Species'].value_counts())\n",
        "lenc.classes_"
      ],
      "execution_count": 60,
      "outputs": [
        {
          "output_type": "stream",
          "text": [
            "2    50\n",
            "1    50\n",
            "0    50\n",
            "Name: Species, dtype: int64\n"
          ],
          "name": "stdout"
        },
        {
          "output_type": "execute_result",
          "data": {
            "text/plain": [
              "array(['Iris-setosa', 'Iris-versicolor', 'Iris-virginica'], dtype=object)"
            ]
          },
          "metadata": {
            "tags": []
          },
          "execution_count": 60
        }
      ]
    },
    {
      "cell_type": "code",
      "metadata": {
        "colab": {
          "base_uri": "https://localhost:8080/"
        },
        "id": "3qDaQtC6DclV",
        "outputId": "185f73d4-76e8-4feb-842f-ff7256446dcf"
      },
      "source": [
        "data['Species'].value_counts()"
      ],
      "execution_count": 63,
      "outputs": [
        {
          "output_type": "execute_result",
          "data": {
            "text/plain": [
              "Iris-versicolor    50\n",
              "Iris-setosa        50\n",
              "Iris-virginica     50\n",
              "Name: Species, dtype: int64"
            ]
          },
          "metadata": {
            "tags": []
          },
          "execution_count": 63
        }
      ]
    },
    {
      "cell_type": "code",
      "metadata": {
        "colab": {
          "base_uri": "https://localhost:8080/"
        },
        "id": "iUb4NdQHEHl0",
        "outputId": "d5971eab-8f4f-42aa-ee01-08ec71e2501a"
      },
      "source": [
        "one_hot = OneHotEncoder()\n",
        "transformed_data = one_hot.fit_transform(data['Species'].values.reshape(-1,1)).toarray()\n",
        "one_hot.categories_"
      ],
      "execution_count": 64,
      "outputs": [
        {
          "output_type": "execute_result",
          "data": {
            "text/plain": [
              "[array(['Iris-setosa', 'Iris-versicolor', 'Iris-virginica'], dtype=object)]"
            ]
          },
          "metadata": {
            "tags": []
          },
          "execution_count": 64
        }
      ]
    },
    {
      "cell_type": "code",
      "metadata": {
        "id": "WoxYEJZzEPbh"
      },
      "source": [
        "transformed_data = pd.DataFrame(transformed_data , \n",
        "                                columns = ['Iris-setosa', 'Iris-versicolor', 'Iris-virginica'])"
      ],
      "execution_count": 65,
      "outputs": []
    },
    {
      "cell_type": "code",
      "metadata": {
        "colab": {
          "base_uri": "https://localhost:8080/",
          "height": 204
        },
        "id": "GRpNh0XdEUcb",
        "outputId": "3562d5e3-b9be-4a3f-aaef-e766e66eb9ef"
      },
      "source": [
        "transformed_data.head() "
      ],
      "execution_count": 66,
      "outputs": [
        {
          "output_type": "execute_result",
          "data": {
            "text/html": [
              "<div>\n",
              "<style scoped>\n",
              "    .dataframe tbody tr th:only-of-type {\n",
              "        vertical-align: middle;\n",
              "    }\n",
              "\n",
              "    .dataframe tbody tr th {\n",
              "        vertical-align: top;\n",
              "    }\n",
              "\n",
              "    .dataframe thead th {\n",
              "        text-align: right;\n",
              "    }\n",
              "</style>\n",
              "<table border=\"1\" class=\"dataframe\">\n",
              "  <thead>\n",
              "    <tr style=\"text-align: right;\">\n",
              "      <th></th>\n",
              "      <th>Iris-setosa</th>\n",
              "      <th>Iris-versicolor</th>\n",
              "      <th>Iris-virginica</th>\n",
              "    </tr>\n",
              "  </thead>\n",
              "  <tbody>\n",
              "    <tr>\n",
              "      <th>0</th>\n",
              "      <td>1.0</td>\n",
              "      <td>0.0</td>\n",
              "      <td>0.0</td>\n",
              "    </tr>\n",
              "    <tr>\n",
              "      <th>1</th>\n",
              "      <td>1.0</td>\n",
              "      <td>0.0</td>\n",
              "      <td>0.0</td>\n",
              "    </tr>\n",
              "    <tr>\n",
              "      <th>2</th>\n",
              "      <td>1.0</td>\n",
              "      <td>0.0</td>\n",
              "      <td>0.0</td>\n",
              "    </tr>\n",
              "    <tr>\n",
              "      <th>3</th>\n",
              "      <td>1.0</td>\n",
              "      <td>0.0</td>\n",
              "      <td>0.0</td>\n",
              "    </tr>\n",
              "    <tr>\n",
              "      <th>4</th>\n",
              "      <td>1.0</td>\n",
              "      <td>0.0</td>\n",
              "      <td>0.0</td>\n",
              "    </tr>\n",
              "  </tbody>\n",
              "</table>\n",
              "</div>"
            ],
            "text/plain": [
              "   Iris-setosa  Iris-versicolor  Iris-virginica\n",
              "0          1.0              0.0             0.0\n",
              "1          1.0              0.0             0.0\n",
              "2          1.0              0.0             0.0\n",
              "3          1.0              0.0             0.0\n",
              "4          1.0              0.0             0.0"
            ]
          },
          "metadata": {
            "tags": []
          },
          "execution_count": 66
        }
      ]
    },
    {
      "cell_type": "code",
      "metadata": {
        "colab": {
          "base_uri": "https://localhost:8080/"
        },
        "id": "w66GogQMEaT2",
        "outputId": "f00ae403-3977-47d4-aa0e-58e4245f48e1"
      },
      "source": [
        "transformed_data.iloc[100 , ]"
      ],
      "execution_count": 71,
      "outputs": [
        {
          "output_type": "execute_result",
          "data": {
            "text/plain": [
              "Iris-setosa        0.0\n",
              "Iris-versicolor    0.0\n",
              "Iris-virginica     1.0\n",
              "Name: 100, dtype: float64"
            ]
          },
          "metadata": {
            "tags": []
          },
          "execution_count": 71
        }
      ]
    },
    {
      "cell_type": "code",
      "metadata": {
        "colab": {
          "base_uri": "https://localhost:8080/",
          "height": 35
        },
        "id": "42i6JmbxEdv9",
        "outputId": "33f5f258-99a3-4f7a-e71a-f9fadd576f77"
      },
      "source": [
        "data['Species'][100]"
      ],
      "execution_count": 72,
      "outputs": [
        {
          "output_type": "execute_result",
          "data": {
            "application/vnd.google.colaboratory.intrinsic+json": {
              "type": "string"
            },
            "text/plain": [
              "'Iris-virginica'"
            ]
          },
          "metadata": {
            "tags": []
          },
          "execution_count": 72
        }
      ]
    },
    {
      "cell_type": "markdown",
      "metadata": {
        "id": "-SQNEiQwEq1g"
      },
      "source": [
        "**Handling With Missing Values**"
      ]
    },
    {
      "cell_type": "code",
      "metadata": {
        "colab": {
          "base_uri": "https://localhost:8080/"
        },
        "id": "Em3JpfkaANVp",
        "outputId": "86a02284-a70a-4849-f09a-57f4f1205e70"
      },
      "source": [
        "data.isnull().sum()"
      ],
      "execution_count": 51,
      "outputs": [
        {
          "output_type": "execute_result",
          "data": {
            "text/plain": [
              "Id                0\n",
              "SepalLengthCm    11\n",
              "SepalWidthCm      0\n",
              "PetalLengthCm     0\n",
              "PetalWidthCm      0\n",
              "Species           0\n",
              "dtype: int64"
            ]
          },
          "metadata": {
            "tags": []
          },
          "execution_count": 51
        }
      ]
    },
    {
      "cell_type": "code",
      "metadata": {
        "colab": {
          "base_uri": "https://localhost:8080/"
        },
        "id": "s2tW0aXlARcp",
        "outputId": "b1ee84ed-c3c4-450a-e1de-f9d6aec5562b"
      },
      "source": [
        "from sklearn.impute import SimpleImputer\n",
        "imputer = SimpleImputer(missing_values=np.nan , strategy='mean')\n",
        "SepalLengthCm = imputer.fit_transform(df['SepalLengthCm'].values.reshape(-1,1))\n",
        "print(pd.DataFrame(SepalLengthCm).isnull().sum())\n",
        "df['SepalLengthCm'] = pd.DataFrame(SepalLengthCm)"
      ],
      "execution_count": 52,
      "outputs": [
        {
          "output_type": "stream",
          "text": [
            "0    0\n",
            "dtype: int64\n"
          ],
          "name": "stdout"
        }
      ]
    },
    {
      "cell_type": "markdown",
      "metadata": {
        "id": "GHnCmlqvFQ9f"
      },
      "source": [
        "**Sklearn Preprocessing**"
      ]
    },
    {
      "cell_type": "code",
      "metadata": {
        "colab": {
          "base_uri": "https://localhost:8080/"
        },
        "id": "abDZz3JF9Rvo",
        "outputId": "be9547ea-2bc1-44bf-9073-e5d0cfbfb65a"
      },
      "source": [
        "x = df.iloc[:,1]\n",
        "y_scaled = preprocessing.scale(x)\n",
        "print(y_scaled)"
      ],
      "execution_count": 53,
      "outputs": [
        {
          "output_type": "stream",
          "text": [
            "[-0.88165977 -1.12873781 -1.37581586 -1.49935488 -1.00519879 -0.51104271\n",
            " -1.49935488 -1.00519879 -1.74643292 -1.12873781 -0.51104271 -1.25227684\n",
            " -1.25227684 -1.86997194 -0.01688663 -0.14042565 -0.51104271 -0.88165977\n",
            " -0.14042565 -0.88165977 -0.51104271 -0.88165977 -1.49935488 -0.88165977\n",
            " -1.25227684 -1.00519879 -1.00519879 -0.75812075 -0.75812075 -1.37581586\n",
            " -1.25227684 -0.51104271 -0.75812075 -0.38750369 -1.12873781 -1.00519879\n",
            " -0.38750369 -1.12873781 -1.74643292 -0.88165977 -1.00519879 -1.6228939\n",
            " -1.74643292 -1.00519879 -0.88165977 -1.25227684 -0.88165977 -1.49935488\n",
            " -0.63458173 -1.00519879  0.          0.          0.         -0.38750369\n",
            "  0.84788652 -0.14042565  0.60080847 -1.12873781  0.97142554 -0.75812075\n",
            " -1.00519879  0.10665239  0.23019141  0.35373043 -0.26396467  1.09496456\n",
            " -0.26396467 -0.01688663  0.47726945 -0.26396467  0.10665239  0.35373043\n",
            "  0.60080847  0.35373043  0.7243475   0.97142554  1.21850358  1.09496456\n",
            "  0.23019141 -0.14042565 -0.38750369 -0.38750369 -0.01688663  0.23019141\n",
            " -0.51104271  0.23019141  1.09496456  0.60080847 -0.26396467 -0.38750369\n",
            " -0.38750369  0.35373043 -0.01688663 -1.00519879  0.          0.\n",
            "  0.          0.         -0.88165977 -0.14042565  0.60080847 -0.01688663\n",
            "  1.58912064  0.60080847  0.84788652  2.20681574 -1.12873781  1.83619868\n",
            "  1.09496456  1.71265966  0.84788652  0.7243475   1.21850358 -0.14042565\n",
            " -0.01688663  0.7243475   0.84788652  2.33035476  2.33035476  0.23019141\n",
            "  1.3420426  -0.26396467  2.33035476  0.60080847  1.09496456  1.71265966\n",
            "  0.47726945  0.35373043  0.7243475   1.71265966  1.9597377   2.57743281\n",
            "  0.7243475   0.60080847  0.35373043  2.33035476  0.60080847  0.7243475\n",
            "  0.23019141  1.3420426   1.09496456  1.3420426  -0.01688663  1.21850358\n",
            "  1.09496456  1.09496456  0.          0.          0.          0.        ]\n"
          ],
          "name": "stdout"
        }
      ]
    },
    {
      "cell_type": "code",
      "metadata": {
        "colab": {
          "base_uri": "https://localhost:8080/"
        },
        "id": "vfbUXN_z_2Hq",
        "outputId": "099d359c-fabd-4f03-be96-1351d9001bf1"
      },
      "source": [
        "from sklearn.preprocessing import MinMaxScaler\n",
        "import numpy as np\n",
        "x = df.iloc[:,1:4]\n",
        "scaler = MinMaxScaler(feature_range=(0,5))\n",
        "scaler.fit(x)\n",
        "new_data = scaler.transform(x)\n",
        "new_data"
      ],
      "execution_count": 54,
      "outputs": [
        {
          "output_type": "execute_result",
          "data": {
            "text/plain": [
              "array([[1.11111111, 3.125     , 0.33898305],\n",
              "       [0.83333333, 2.08333333, 0.33898305],\n",
              "       [0.55555556, 2.5       , 0.25423729],\n",
              "       [0.41666667, 2.29166667, 0.42372881],\n",
              "       [0.97222222, 3.33333333, 0.33898305],\n",
              "       [1.52777778, 3.95833333, 0.59322034],\n",
              "       [0.41666667, 2.91666667, 0.33898305],\n",
              "       [0.97222222, 2.91666667, 0.42372881],\n",
              "       [0.13888889, 1.875     , 0.33898305],\n",
              "       [0.83333333, 2.29166667, 0.42372881],\n",
              "       [1.52777778, 3.54166667, 0.42372881],\n",
              "       [0.69444444, 2.91666667, 0.50847458],\n",
              "       [0.69444444, 2.08333333, 0.33898305],\n",
              "       [0.        , 2.08333333, 0.08474576],\n",
              "       [2.08333333, 4.16666667, 0.16949153],\n",
              "       [1.94444444, 5.        , 0.42372881],\n",
              "       [1.52777778, 3.95833333, 0.25423729],\n",
              "       [1.11111111, 3.125     , 0.33898305],\n",
              "       [1.94444444, 3.75      , 0.59322034],\n",
              "       [1.11111111, 3.75      , 0.42372881],\n",
              "       [1.52777778, 2.91666667, 0.59322034],\n",
              "       [1.11111111, 3.54166667, 0.42372881],\n",
              "       [0.41666667, 3.33333333, 0.        ],\n",
              "       [1.11111111, 2.70833333, 0.59322034],\n",
              "       [0.69444444, 2.91666667, 0.76271186],\n",
              "       [0.97222222, 2.08333333, 0.50847458],\n",
              "       [0.97222222, 2.91666667, 0.50847458],\n",
              "       [1.25      , 3.125     , 0.42372881],\n",
              "       [1.25      , 2.91666667, 0.33898305],\n",
              "       [0.55555556, 2.5       , 0.50847458],\n",
              "       [0.69444444, 2.29166667, 0.50847458],\n",
              "       [1.52777778, 2.91666667, 0.42372881],\n",
              "       [1.25      , 4.375     , 0.42372881],\n",
              "       [1.66666667, 4.58333333, 0.33898305],\n",
              "       [0.83333333, 2.29166667, 0.42372881],\n",
              "       [0.97222222, 2.5       , 0.16949153],\n",
              "       [1.66666667, 3.125     , 0.25423729],\n",
              "       [0.83333333, 2.29166667, 0.42372881],\n",
              "       [0.13888889, 2.08333333, 0.25423729],\n",
              "       [1.11111111, 2.91666667, 0.42372881],\n",
              "       [0.97222222, 3.125     , 0.25423729],\n",
              "       [0.27777778, 0.625     , 0.25423729],\n",
              "       [0.13888889, 2.5       , 0.25423729],\n",
              "       [0.97222222, 3.125     , 0.50847458],\n",
              "       [1.11111111, 3.75      , 0.76271186],\n",
              "       [0.69444444, 2.08333333, 0.33898305],\n",
              "       [1.11111111, 3.75      , 0.50847458],\n",
              "       [0.41666667, 2.5       , 0.33898305],\n",
              "       [1.38888889, 3.54166667, 0.42372881],\n",
              "       [0.97222222, 2.70833333, 0.33898305],\n",
              "       [2.10231815, 2.5       , 3.13559322],\n",
              "       [2.10231815, 2.5       , 2.96610169],\n",
              "       [2.10231815, 2.29166667, 3.30508475],\n",
              "       [1.66666667, 0.625     , 2.54237288],\n",
              "       [3.05555556, 1.66666667, 3.05084746],\n",
              "       [1.94444444, 1.66666667, 2.96610169],\n",
              "       [2.77777778, 2.70833333, 3.13559322],\n",
              "       [0.83333333, 0.83333333, 1.94915254],\n",
              "       [3.19444444, 1.875     , 3.05084746],\n",
              "       [1.25      , 1.45833333, 2.45762712],\n",
              "       [0.97222222, 0.        , 2.11864407],\n",
              "       [2.22222222, 2.08333333, 2.71186441],\n",
              "       [2.36111111, 0.41666667, 2.54237288],\n",
              "       [2.5       , 1.875     , 3.13559322],\n",
              "       [1.80555556, 1.875     , 2.20338983],\n",
              "       [3.33333333, 2.29166667, 2.88135593],\n",
              "       [1.80555556, 2.08333333, 2.96610169],\n",
              "       [2.08333333, 1.45833333, 2.62711864],\n",
              "       [2.63888889, 0.41666667, 2.96610169],\n",
              "       [1.80555556, 1.04166667, 2.45762712],\n",
              "       [2.22222222, 2.5       , 3.22033898],\n",
              "       [2.5       , 1.66666667, 2.54237288],\n",
              "       [2.77777778, 1.04166667, 3.30508475],\n",
              "       [2.5       , 1.66666667, 3.13559322],\n",
              "       [2.91666667, 1.875     , 2.79661017],\n",
              "       [3.19444444, 2.08333333, 2.88135593],\n",
              "       [3.47222222, 1.66666667, 3.22033898],\n",
              "       [3.33333333, 2.08333333, 3.38983051],\n",
              "       [2.36111111, 1.875     , 2.96610169],\n",
              "       [1.94444444, 1.25      , 2.11864407],\n",
              "       [1.66666667, 0.83333333, 2.37288136],\n",
              "       [1.66666667, 0.83333333, 2.28813559],\n",
              "       [2.08333333, 1.45833333, 2.45762712],\n",
              "       [2.36111111, 1.45833333, 3.47457627],\n",
              "       [1.52777778, 2.08333333, 2.96610169],\n",
              "       [2.36111111, 2.91666667, 2.96610169],\n",
              "       [3.33333333, 2.29166667, 3.13559322],\n",
              "       [2.77777778, 0.625     , 2.88135593],\n",
              "       [1.80555556, 2.08333333, 2.62711864],\n",
              "       [1.66666667, 1.04166667, 2.54237288],\n",
              "       [1.66666667, 1.25      , 2.88135593],\n",
              "       [2.5       , 2.08333333, 3.05084746],\n",
              "       [2.08333333, 1.25      , 2.54237288],\n",
              "       [0.97222222, 0.625     , 1.94915254],\n",
              "       [2.10231815, 1.45833333, 2.71186441],\n",
              "       [2.10231815, 2.08333333, 2.71186441],\n",
              "       [2.10231815, 1.875     , 2.71186441],\n",
              "       [2.10231815, 1.875     , 2.79661017],\n",
              "       [1.11111111, 1.04166667, 1.69491525],\n",
              "       [1.94444444, 1.66666667, 2.62711864],\n",
              "       [2.77777778, 2.70833333, 4.23728814],\n",
              "       [2.08333333, 1.45833333, 3.47457627],\n",
              "       [3.88888889, 2.08333333, 4.15254237],\n",
              "       [2.77777778, 1.875     , 3.89830508],\n",
              "       [3.05555556, 2.08333333, 4.06779661],\n",
              "       [4.58333333, 2.08333333, 4.74576271],\n",
              "       [0.83333333, 1.04166667, 2.96610169],\n",
              "       [4.16666667, 1.875     , 4.49152542],\n",
              "       [3.33333333, 1.04166667, 4.06779661],\n",
              "       [4.02777778, 3.33333333, 4.3220339 ],\n",
              "       [3.05555556, 2.5       , 3.47457627],\n",
              "       [2.91666667, 1.45833333, 3.6440678 ],\n",
              "       [3.47222222, 2.08333333, 3.81355932],\n",
              "       [1.94444444, 1.04166667, 3.38983051],\n",
              "       [2.08333333, 1.66666667, 3.47457627],\n",
              "       [2.91666667, 2.5       , 3.6440678 ],\n",
              "       [3.05555556, 2.08333333, 3.81355932],\n",
              "       [4.72222222, 3.75      , 4.83050847],\n",
              "       [4.72222222, 1.25      , 5.        ],\n",
              "       [2.36111111, 0.41666667, 3.38983051],\n",
              "       [3.61111111, 2.5       , 3.98305085],\n",
              "       [1.80555556, 1.66666667, 3.30508475],\n",
              "       [4.72222222, 1.66666667, 4.83050847],\n",
              "       [2.77777778, 1.45833333, 3.30508475],\n",
              "       [3.33333333, 2.70833333, 3.98305085],\n",
              "       [4.02777778, 2.5       , 4.23728814],\n",
              "       [2.63888889, 1.66666667, 3.22033898],\n",
              "       [2.5       , 2.08333333, 3.30508475],\n",
              "       [2.91666667, 1.66666667, 3.89830508],\n",
              "       [4.02777778, 2.08333333, 4.06779661],\n",
              "       [4.30555556, 1.66666667, 4.3220339 ],\n",
              "       [5.        , 3.75      , 4.57627119],\n",
              "       [2.91666667, 1.66666667, 3.89830508],\n",
              "       [2.77777778, 1.66666667, 3.47457627],\n",
              "       [2.5       , 1.25      , 3.89830508],\n",
              "       [4.72222222, 2.08333333, 4.3220339 ],\n",
              "       [2.77777778, 2.91666667, 3.89830508],\n",
              "       [2.91666667, 2.29166667, 3.81355932],\n",
              "       [2.36111111, 2.08333333, 3.22033898],\n",
              "       [3.61111111, 2.29166667, 3.72881356],\n",
              "       [3.33333333, 2.29166667, 3.89830508],\n",
              "       [3.61111111, 2.29166667, 3.47457627],\n",
              "       [2.08333333, 1.45833333, 3.47457627],\n",
              "       [3.47222222, 2.5       , 4.15254237],\n",
              "       [3.33333333, 2.70833333, 3.98305085],\n",
              "       [3.33333333, 2.08333333, 3.55932203],\n",
              "       [2.10231815, 1.04166667, 3.38983051],\n",
              "       [2.10231815, 2.08333333, 3.55932203],\n",
              "       [2.10231815, 2.91666667, 3.72881356],\n",
              "       [2.10231815, 2.08333333, 3.47457627]])"
            ]
          },
          "metadata": {
            "tags": []
          },
          "execution_count": 54
        }
      ]
    },
    {
      "cell_type": "code",
      "metadata": {
        "colab": {
          "base_uri": "https://localhost:8080/"
        },
        "id": "dNjqzG24ACkK",
        "outputId": "48d50757-229e-4e32-98be-4c947ebb35c6"
      },
      "source": [
        "from sklearn.preprocessing import KBinsDiscretizer\n",
        "trans = KBinsDiscretizer(n_bins=2, encode = 'ordinal',strategy='quantile')\n",
        "new_data = trans.fit_transform(x)\n",
        "new_data"
      ],
      "execution_count": 74,
      "outputs": [
        {
          "output_type": "execute_result",
          "data": {
            "text/plain": [
              "array([[0., 1., 0.],\n",
              "       [0., 1., 0.],\n",
              "       [0., 1., 0.],\n",
              "       [0., 1., 0.],\n",
              "       [0., 1., 0.],\n",
              "       [0., 1., 0.],\n",
              "       [0., 1., 0.],\n",
              "       [0., 1., 0.],\n",
              "       [0., 0., 0.],\n",
              "       [0., 1., 0.],\n",
              "       [0., 1., 0.],\n",
              "       [0., 1., 0.],\n",
              "       [0., 1., 0.],\n",
              "       [0., 1., 0.],\n",
              "       [1., 1., 0.],\n",
              "       [0., 1., 0.],\n",
              "       [0., 1., 0.],\n",
              "       [0., 1., 0.],\n",
              "       [0., 1., 0.],\n",
              "       [0., 1., 0.],\n",
              "       [0., 1., 0.],\n",
              "       [0., 1., 0.],\n",
              "       [0., 1., 0.],\n",
              "       [0., 1., 0.],\n",
              "       [0., 1., 0.],\n",
              "       [0., 1., 0.],\n",
              "       [0., 1., 0.],\n",
              "       [0., 1., 0.],\n",
              "       [0., 1., 0.],\n",
              "       [0., 1., 0.],\n",
              "       [0., 1., 0.],\n",
              "       [0., 1., 0.],\n",
              "       [0., 1., 0.],\n",
              "       [0., 1., 0.],\n",
              "       [0., 1., 0.],\n",
              "       [0., 1., 0.],\n",
              "       [0., 1., 0.],\n",
              "       [0., 1., 0.],\n",
              "       [0., 1., 0.],\n",
              "       [0., 1., 0.],\n",
              "       [0., 1., 0.],\n",
              "       [0., 0., 0.],\n",
              "       [0., 1., 0.],\n",
              "       [0., 1., 0.],\n",
              "       [0., 1., 0.],\n",
              "       [0., 1., 0.],\n",
              "       [0., 1., 0.],\n",
              "       [0., 1., 0.],\n",
              "       [0., 1., 0.],\n",
              "       [0., 1., 0.],\n",
              "       [1., 1., 1.],\n",
              "       [1., 1., 1.],\n",
              "       [1., 1., 1.],\n",
              "       [0., 0., 0.],\n",
              "       [1., 0., 1.],\n",
              "       [0., 0., 1.],\n",
              "       [1., 1., 1.],\n",
              "       [0., 0., 0.],\n",
              "       [1., 0., 1.],\n",
              "       [0., 0., 0.],\n",
              "       [0., 0., 0.],\n",
              "       [1., 1., 0.],\n",
              "       [1., 0., 0.],\n",
              "       [1., 0., 1.],\n",
              "       [0., 0., 0.],\n",
              "       [1., 1., 1.],\n",
              "       [0., 1., 1.],\n",
              "       [1., 0., 0.],\n",
              "       [1., 0., 1.],\n",
              "       [0., 0., 0.],\n",
              "       [1., 1., 1.],\n",
              "       [1., 0., 0.],\n",
              "       [1., 0., 1.],\n",
              "       [1., 0., 1.],\n",
              "       [1., 0., 0.],\n",
              "       [1., 1., 1.],\n",
              "       [1., 0., 1.],\n",
              "       [1., 1., 1.],\n",
              "       [1., 0., 1.],\n",
              "       [0., 0., 0.],\n",
              "       [0., 0., 0.],\n",
              "       [0., 0., 0.],\n",
              "       [1., 0., 0.],\n",
              "       [1., 0., 1.],\n",
              "       [0., 1., 1.],\n",
              "       [1., 1., 1.],\n",
              "       [1., 1., 1.],\n",
              "       [1., 0., 1.],\n",
              "       [0., 1., 0.],\n",
              "       [0., 0., 0.],\n",
              "       [0., 0., 1.],\n",
              "       [1., 1., 1.],\n",
              "       [1., 0., 0.],\n",
              "       [0., 0., 0.],\n",
              "       [1., 0., 0.],\n",
              "       [1., 1., 0.],\n",
              "       [1., 0., 0.],\n",
              "       [1., 0., 0.],\n",
              "       [0., 0., 0.],\n",
              "       [0., 0., 0.],\n",
              "       [1., 1., 1.],\n",
              "       [1., 0., 1.],\n",
              "       [1., 1., 1.],\n",
              "       [1., 0., 1.],\n",
              "       [1., 1., 1.],\n",
              "       [1., 1., 1.],\n",
              "       [0., 0., 1.],\n",
              "       [1., 0., 1.],\n",
              "       [1., 0., 1.],\n",
              "       [1., 1., 1.],\n",
              "       [1., 1., 1.],\n",
              "       [1., 0., 1.],\n",
              "       [1., 1., 1.],\n",
              "       [0., 0., 1.],\n",
              "       [1., 0., 1.],\n",
              "       [1., 1., 1.],\n",
              "       [1., 1., 1.],\n",
              "       [1., 1., 1.],\n",
              "       [1., 0., 1.],\n",
              "       [1., 0., 1.],\n",
              "       [1., 1., 1.],\n",
              "       [0., 0., 1.],\n",
              "       [1., 0., 1.],\n",
              "       [1., 0., 1.],\n",
              "       [1., 1., 1.],\n",
              "       [1., 1., 1.],\n",
              "       [1., 0., 1.],\n",
              "       [1., 1., 1.],\n",
              "       [1., 0., 1.],\n",
              "       [1., 1., 1.],\n",
              "       [1., 0., 1.],\n",
              "       [1., 1., 1.],\n",
              "       [1., 0., 1.],\n",
              "       [1., 0., 1.],\n",
              "       [1., 0., 1.],\n",
              "       [1., 1., 1.],\n",
              "       [1., 1., 1.],\n",
              "       [1., 1., 1.],\n",
              "       [1., 1., 1.],\n",
              "       [1., 1., 1.],\n",
              "       [1., 1., 1.],\n",
              "       [1., 1., 1.],\n",
              "       [1., 0., 1.],\n",
              "       [1., 1., 1.],\n",
              "       [1., 1., 1.],\n",
              "       [1., 1., 1.],\n",
              "       [1., 0., 1.],\n",
              "       [1., 1., 1.],\n",
              "       [1., 1., 1.],\n",
              "       [1., 1., 1.]])"
            ]
          },
          "metadata": {
            "tags": []
          },
          "execution_count": 74
        }
      ]
    },
    {
      "cell_type": "code",
      "metadata": {
        "colab": {
          "base_uri": "https://localhost:8080/"
        },
        "id": "xDD4i3LADL7E",
        "outputId": "fb734803-84d1-4d70-da00-5404ae20d443"
      },
      "source": [
        "trans = KBinsDiscretizer(n_bins=2, encode = 'ordinal',strategy='kmeans')\n",
        "new_data = trans.fit_transform(x)\n",
        "new_data"
      ],
      "execution_count": 75,
      "outputs": [
        {
          "output_type": "execute_result",
          "data": {
            "text/plain": [
              "array([[0., 1., 0.],\n",
              "       [0., 0., 0.],\n",
              "       [0., 0., 0.],\n",
              "       [0., 0., 0.],\n",
              "       [0., 1., 0.],\n",
              "       [0., 1., 0.],\n",
              "       [0., 1., 0.],\n",
              "       [0., 1., 0.],\n",
              "       [0., 0., 0.],\n",
              "       [0., 0., 0.],\n",
              "       [0., 1., 0.],\n",
              "       [0., 1., 0.],\n",
              "       [0., 0., 0.],\n",
              "       [0., 0., 0.],\n",
              "       [0., 1., 0.],\n",
              "       [0., 1., 0.],\n",
              "       [0., 1., 0.],\n",
              "       [0., 1., 0.],\n",
              "       [0., 1., 0.],\n",
              "       [0., 1., 0.],\n",
              "       [0., 1., 0.],\n",
              "       [0., 1., 0.],\n",
              "       [0., 1., 0.],\n",
              "       [0., 1., 0.],\n",
              "       [0., 1., 0.],\n",
              "       [0., 0., 0.],\n",
              "       [0., 1., 0.],\n",
              "       [0., 1., 0.],\n",
              "       [0., 1., 0.],\n",
              "       [0., 0., 0.],\n",
              "       [0., 0., 0.],\n",
              "       [0., 1., 0.],\n",
              "       [0., 1., 0.],\n",
              "       [0., 1., 0.],\n",
              "       [0., 0., 0.],\n",
              "       [0., 0., 0.],\n",
              "       [0., 1., 0.],\n",
              "       [0., 0., 0.],\n",
              "       [0., 0., 0.],\n",
              "       [0., 1., 0.],\n",
              "       [0., 1., 0.],\n",
              "       [0., 0., 0.],\n",
              "       [0., 0., 0.],\n",
              "       [0., 1., 0.],\n",
              "       [0., 1., 0.],\n",
              "       [0., 0., 0.],\n",
              "       [0., 1., 0.],\n",
              "       [0., 0., 0.],\n",
              "       [0., 1., 0.],\n",
              "       [0., 1., 0.],\n",
              "       [0., 0., 1.],\n",
              "       [0., 0., 1.],\n",
              "       [0., 0., 1.],\n",
              "       [0., 0., 1.],\n",
              "       [1., 0., 1.],\n",
              "       [0., 0., 1.],\n",
              "       [1., 1., 1.],\n",
              "       [0., 0., 1.],\n",
              "       [1., 0., 1.],\n",
              "       [0., 0., 1.],\n",
              "       [0., 0., 1.],\n",
              "       [0., 0., 1.],\n",
              "       [0., 0., 1.],\n",
              "       [1., 0., 1.],\n",
              "       [0., 0., 1.],\n",
              "       [1., 0., 1.],\n",
              "       [0., 0., 1.],\n",
              "       [0., 0., 1.],\n",
              "       [1., 0., 1.],\n",
              "       [0., 0., 1.],\n",
              "       [0., 0., 1.],\n",
              "       [1., 0., 1.],\n",
              "       [1., 0., 1.],\n",
              "       [1., 0., 1.],\n",
              "       [1., 0., 1.],\n",
              "       [1., 0., 1.],\n",
              "       [1., 0., 1.],\n",
              "       [1., 0., 1.],\n",
              "       [0., 0., 1.],\n",
              "       [0., 0., 1.],\n",
              "       [0., 0., 1.],\n",
              "       [0., 0., 1.],\n",
              "       [0., 0., 1.],\n",
              "       [0., 0., 1.],\n",
              "       [0., 0., 1.],\n",
              "       [0., 1., 1.],\n",
              "       [1., 0., 1.],\n",
              "       [1., 0., 1.],\n",
              "       [0., 0., 1.],\n",
              "       [0., 0., 1.],\n",
              "       [0., 0., 1.],\n",
              "       [1., 0., 1.],\n",
              "       [0., 0., 1.],\n",
              "       [0., 0., 1.],\n",
              "       [0., 0., 1.],\n",
              "       [0., 0., 1.],\n",
              "       [0., 0., 1.],\n",
              "       [0., 0., 1.],\n",
              "       [0., 0., 0.],\n",
              "       [0., 0., 1.],\n",
              "       [1., 1., 1.],\n",
              "       [0., 0., 1.],\n",
              "       [1., 0., 1.],\n",
              "       [1., 0., 1.],\n",
              "       [1., 0., 1.],\n",
              "       [1., 0., 1.],\n",
              "       [0., 0., 1.],\n",
              "       [1., 0., 1.],\n",
              "       [1., 0., 1.],\n",
              "       [1., 1., 1.],\n",
              "       [1., 0., 1.],\n",
              "       [1., 0., 1.],\n",
              "       [1., 0., 1.],\n",
              "       [0., 0., 1.],\n",
              "       [0., 0., 1.],\n",
              "       [1., 0., 1.],\n",
              "       [1., 0., 1.],\n",
              "       [1., 1., 1.],\n",
              "       [1., 0., 1.],\n",
              "       [0., 0., 1.],\n",
              "       [1., 0., 1.],\n",
              "       [0., 0., 1.],\n",
              "       [1., 0., 1.],\n",
              "       [1., 0., 1.],\n",
              "       [1., 1., 1.],\n",
              "       [1., 0., 1.],\n",
              "       [1., 0., 1.],\n",
              "       [1., 0., 1.],\n",
              "       [1., 0., 1.],\n",
              "       [1., 0., 1.],\n",
              "       [1., 0., 1.],\n",
              "       [1., 1., 1.],\n",
              "       [1., 0., 1.],\n",
              "       [1., 0., 1.],\n",
              "       [1., 0., 1.],\n",
              "       [1., 0., 1.],\n",
              "       [1., 1., 1.],\n",
              "       [1., 0., 1.],\n",
              "       [0., 0., 1.],\n",
              "       [1., 0., 1.],\n",
              "       [1., 0., 1.],\n",
              "       [1., 0., 1.],\n",
              "       [0., 0., 1.],\n",
              "       [1., 0., 1.],\n",
              "       [1., 1., 1.],\n",
              "       [1., 0., 1.],\n",
              "       [0., 0., 1.],\n",
              "       [0., 0., 1.],\n",
              "       [0., 1., 1.],\n",
              "       [0., 0., 1.]])"
            ]
          },
          "metadata": {
            "tags": []
          },
          "execution_count": 75
        }
      ]
    }
  ]
}