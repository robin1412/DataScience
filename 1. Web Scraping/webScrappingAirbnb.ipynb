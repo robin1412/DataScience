{
 "cells": [
  {
   "cell_type": "code",
   "execution_count": 1,
   "metadata": {},
   "outputs": [
    {
     "name": "stdout",
     "output_type": "stream",
     "text": [
      "Collecting selenium\n",
      "  Downloading selenium-3.141.0-py2.py3-none-any.whl (904 kB)\n",
      "Requirement already satisfied: urllib3 in c:\\users\\harshil\\anaconda3\\lib\\site-packages (from selenium) (1.25.9)\n",
      "Installing collected packages: selenium\n",
      "Successfully installed selenium-3.141.0\n",
      "Note: you may need to restart the kernel to use updated packages.\n"
     ]
    }
   ],
   "source": [
    "pip install selenium"
   ]
  },
  {
   "cell_type": "code",
   "execution_count": 2,
   "metadata": {},
   "outputs": [
    {
     "name": "stdout",
     "output_type": "stream",
     "text": [
      "Requirement already satisfied: beautifulsoup4 in c:\\users\\harshil\\anaconda3\\lib\\site-packages (4.9.1)Note: you may need to restart the kernel to use updated packages.\n",
      "Requirement already satisfied: soupsieve>1.2 in c:\\users\\harshil\\anaconda3\\lib\\site-packages (from beautifulsoup4) (2.0.1)\n",
      "\n"
     ]
    }
   ],
   "source": [
    "pip install beautifulsoup4"
   ]
  },
  {
   "cell_type": "code",
   "execution_count": 3,
   "metadata": {},
   "outputs": [],
   "source": [
    "from selenium import webdriver\n",
    "from bs4 import BeautifulSoup\n",
    "import pandas as pd"
   ]
  },
  {
   "cell_type": "code",
   "execution_count": 38,
   "metadata": {},
   "outputs": [],
   "source": [
    "driver = webdriver.Chrome(\"C:/Users/Harshil/Downloads/chromedriver\")\n",
    "titles=[]\n",
    "descs=[]\n",
    "prices=[]\n",
    "ratings=[] \n",
    "totalvalues=[] \n",
    "driver.get(\"https://www.airbnb.co.in/s/Ahmedabad--Gujarat/homes?tab_id=home_tab&refinement_paths%5B%5D=%2Fhomes&flexible_trip_dates%5B%5D=august&flexible_trip_dates%5B%5D=september&flexible_trip_lengths%5B%5D=weekend_trip&date_picker_type=calendar&query=Ahmedabad%2C%20Gujarat&place_id=ChIJSdRbuoqEXjkRFmVPYRHdzk8&checkin=2021-07-31&checkout=2021-08-04&adults=2&source=structured_search_input_header&search_type=autocomplete_click\")\n",
    "content = driver.page_source\n",
    "soup = BeautifulSoup(content)\n",
    "for element in soup.findAll('div', attrs={'class':'_8ssblpx'}):\n",
    "    title=element.find('div', attrs={'class':'_5kaapu'})\n",
    "    desc=element.find('div', attrs={'class':'_3c0zz1'})\n",
    "    price=element.find('div', attrs={'class':'_1gi6jw3f'})\n",
    "    rating=element.find('div', attrs={'class':'_1hxyyw3'})\n",
    "    totalvalue=element.find('div', attrs={'class':'_1c02cnn'})\n",
    "    try:\n",
    "        titles.append(title.text)\n",
    "    except:\n",
    "        titles.append(\"\")\n",
    "    try:\n",
    "        descs.append(desc.text)\n",
    "    except:\n",
    "        descs.append(\"\")\n",
    "    try:\n",
    "        prices.append(price.text)\n",
    "    except:\n",
    "        prices.append(\"\")\n",
    "    try:\n",
    "        ratings.append(rating.text)\n",
    "    except:\n",
    "        ratings.append(\"\")\n",
    "    try:\n",
    "        totalvalues.append(totalvalue.text)\n",
    "    except:\n",
    "        totalvalues.append(\"\")\n",
    "\n",
    "df = pd.DataFrame({'Name':titles,'Desc':descs,'Price':prices,'Rating':ratings,'Total Value':totalvalues}) \n",
    "df.to_csv('result.csv', index=False, encoding='utf-8')"
   ]
  },
  {
   "cell_type": "code",
   "execution_count": null,
   "metadata": {},
   "outputs": [],
   "source": []
  }
 ],
 "metadata": {
  "kernelspec": {
   "display_name": "Python 3",
   "language": "python",
   "name": "python3"
  },
  "language_info": {
   "codemirror_mode": {
    "name": "ipython",
    "version": 3
   },
   "file_extension": ".py",
   "mimetype": "text/x-python",
   "name": "python",
   "nbconvert_exporter": "python",
   "pygments_lexer": "ipython3",
   "version": "3.8.3"
  }
 },
 "nbformat": 4,
 "nbformat_minor": 4
}
